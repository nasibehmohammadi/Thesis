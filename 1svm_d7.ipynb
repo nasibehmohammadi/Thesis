{
  "nbformat": 4,
  "nbformat_minor": 0,
  "metadata": {
    "colab": {
      "provenance": [],
      "authorship_tag": "ABX9TyNW0Iipbl/K3l50dRUHr9sD",
      "include_colab_link": true
    },
    "kernelspec": {
      "name": "python3",
      "display_name": "Python 3"
    },
    "language_info": {
      "name": "python"
    }
  },
  "cells": [
    {
      "cell_type": "markdown",
      "metadata": {
        "id": "view-in-github",
        "colab_type": "text"
      },
      "source": [
        "<a href=\"https://colab.research.google.com/github/nasibehmohammadi/Thesis/blob/main/1svm_d7.ipynb\" target=\"_parent\"><img src=\"https://colab.research.google.com/assets/colab-badge.svg\" alt=\"Open In Colab\"/></a>"
      ]
    },
    {
      "cell_type": "code",
      "execution_count": 2,
      "metadata": {
        "colab": {
          "base_uri": "https://localhost:8080/"
        },
        "id": "RGHLPdd8PMPl",
        "outputId": "1ebabb91-15f9-4f94-9cb8-f855994331e5"
      },
      "outputs": [
        {
          "output_type": "stream",
          "name": "stdout",
          "text": [
            "✅ دقت مدل روی داده‌های آموزش: 0.65\n",
            "✅ دقت مدل روی داده‌های تست: 0.65\n",
            "✅ مدل احتمالاً بیش‌برازش ندارد.\n"
          ]
        }
      ],
      "source": [
        "import numpy as np\n",
        "import pandas as pd\n",
        "from sklearn.model_selection import train_test_split\n",
        "from sklearn.preprocessing import MinMaxScaler\n",
        "from sklearn.svm import SVC\n",
        "from sklearn.metrics import accuracy_score\n",
        "\n",
        "# 1️⃣ بارگذاری دیتاست\n",
        "file_path = \"/content/d7.csv\"  # نام فایل خود را مشخص کنید\n",
        "\n",
        "df = pd.read_csv(file_path)\n",
        "\n",
        "# 2️⃣ مشخص کردن ویژگی‌ها و برچسب‌ها\n",
        "feature_columns = [\"A\", \"B\", \"C\", \"D\", \"E\"]  # نام ویژگی‌ها\n",
        "target_column = \"F\"  # نام ستون هدف\n",
        "\n",
        "X_data = df[feature_columns].values\n",
        "y_data = df[target_column].values\n",
        "\n",
        "# 3️⃣ تقسیم داده‌ها به آموزش و تست\n",
        "X_train, X_test, y_train, y_test = train_test_split(X_data, y_data, test_size=0.2, random_state=42)\n",
        "\n",
        "# 4️⃣ مقیاس‌بندی داده‌ها\n",
        "scaler = MinMaxScaler()\n",
        "X_train = scaler.fit_transform(X_train)\n",
        "X_test = scaler.transform(X_test)\n",
        "\n",
        "# 5️⃣ ایجاد مدل SVM\n",
        "model = SVC(kernel='rbf', C=1.0, gamma='scale')\n",
        "\n",
        "# 6️⃣ آموزش مدل\n",
        "model.fit(X_train, y_train)\n",
        "\n",
        "# 7️⃣ ارزیابی مدل\n",
        "train_acc = model.score(X_train, y_train)\n",
        "test_acc = model.score(X_test, y_test)\n",
        "\n",
        "y_pred = model.predict(X_test)\n",
        "accuracy = accuracy_score(y_test, y_pred)\n",
        "\n",
        "print(f\"✅ دقت مدل روی داده‌های آموزش: {train_acc:.2f}\")\n",
        "print(f\"✅ دقت مدل روی داده‌های تست: {test_acc:.2f}\")\n",
        "\n",
        "# بررسی بیش‌برازش\n",
        "if train_acc - test_acc > 0.1:\n",
        "    print(\"⚠️ احتمال بیش‌برازش وجود دارد!\")\n",
        "else:\n",
        "    print(\"✅ مدل احتمالاً بیش‌برازش ندارد.\")\n"
      ]
    }
  ]
}