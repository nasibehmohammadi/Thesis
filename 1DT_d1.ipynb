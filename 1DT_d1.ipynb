{
  "nbformat": 4,
  "nbformat_minor": 0,
  "metadata": {
    "colab": {
      "provenance": [],
      "authorship_tag": "ABX9TyM69OtVEhbGWAoK9nCHSfCv",
      "include_colab_link": true
    },
    "kernelspec": {
      "name": "python3",
      "display_name": "Python 3"
    },
    "language_info": {
      "name": "python"
    }
  },
  "cells": [
    {
      "cell_type": "markdown",
      "metadata": {
        "id": "view-in-github",
        "colab_type": "text"
      },
      "source": [
        "<a href=\"https://colab.research.google.com/github/nasibehmohammadi/Thesis/blob/main/1DT_d1.ipynb\" target=\"_parent\"><img src=\"https://colab.research.google.com/assets/colab-badge.svg\" alt=\"Open In Colab\"/></a>"
      ]
    },
    {
      "cell_type": "code",
      "execution_count": 4,
      "metadata": {
        "colab": {
          "base_uri": "https://localhost:8080/"
        },
        "id": "HTotlgHcmGio",
        "outputId": "9135e125-a737-41d4-8961-774af71d2b96"
      },
      "outputs": [
        {
          "output_type": "stream",
          "name": "stdout",
          "text": [
            "🔍 بررسی ۵ سطر اول دیتاست:\n",
            "   A      B      C       D       E       F       G       H       I       J\n",
            "0  1  39353  85475  117961  118300  123472  117905  117906  290919  117908\n",
            "1  1  17183   1540  117961  118343  123125  118536  118536  308574  118539\n",
            "2  1  36724  14457  118219  118220  117884  117879  267952   19721  117880\n",
            "3  1  36135   5396  117961  118343  119993  118321  240983  290919  118322\n",
            "4  1  42680   5905  117929  117930  119569  119323  123932   19793  119325\n",
            "✅ دقت مدل روی داده‌های تست: 94.28%\n",
            "📊 گزارش عملکرد مدل:\n",
            "              precision    recall  f1-score   support\n",
            "\n",
            "           0       0.25      0.01      0.02       369\n",
            "           1       0.94      1.00      0.97      6185\n",
            "\n",
            "    accuracy                           0.94      6554\n",
            "   macro avg       0.60      0.50      0.49      6554\n",
            "weighted avg       0.90      0.94      0.92      6554\n",
            "\n",
            "🚨 ورود مشکوک! نیاز به احراز هویت بیشتر.\n"
          ]
        }
      ],
      "source": [
        "import numpy as np\n",
        "import pandas as pd\n",
        "from sklearn.model_selection import train_test_split\n",
        "from sklearn.preprocessing import MinMaxScaler\n",
        "from sklearn.tree import DecisionTreeClassifier\n",
        "from sklearn.metrics import accuracy_score, classification_report\n",
        "\n",
        "# 1️⃣ بارگذاری دیتاست شخصی\n",
        "file_path = \"/content/d1.csv\"  # مسیر فایل دیتاست\n",
        "\n",
        "df = pd.read_csv(file_path)\n",
        "\n",
        "# 2️⃣ بررسی ساختار داده‌ها\n",
        "print(\"🔍 بررسی ۵ سطر اول دیتاست:\")\n",
        "print(df.head())\n",
        "\n",
        "# 3️⃣ مشخص کردن ویژگی‌های ورودی و خروجی\n",
        "feature_columns = [\"B\", \"C\", \"D\", \"E\", \"F\", \"G\", \"H\", \"I\", \"J\"]  # ویژگی‌ها\n",
        "target_column = \"A\"  # ستون هدف (دسترسی مجاز یا غیرمجاز)\n",
        "\n",
        "X_data = df[feature_columns].values\n",
        "y_data = df[target_column].values\n",
        "\n",
        "# 4️⃣ مقیاس‌بندی داده‌ها\n",
        "scaler = MinMaxScaler()\n",
        "X_data = scaler.fit_transform(X_data)\n",
        "\n",
        "# 5️⃣ تقسیم داده‌ها به مجموعه آموزش و تست\n",
        "X_train, X_test, y_train, y_test = train_test_split(X_data, y_data, test_size=0.2, random_state=42)\n",
        "\n",
        "# 6️⃣ ایجاد مدل درخت تصمیم\n",
        "model = DecisionTreeClassifier(criterion='gini', max_depth=5, random_state=42)\n",
        "\n",
        "# 7️⃣ آموزش مدل\n",
        "model.fit(X_train, y_train)\n",
        "\n",
        "# 8️⃣ ارزیابی مدل\n",
        "y_pred = model.predict(X_test)\n",
        "accuracy = accuracy_score(y_test, y_pred)\n",
        "print(f\"✅ دقت مدل روی داده‌های تست: {accuracy * 100:.2f}%\")\n",
        "print(\"📊 گزارش عملکرد مدل:\")\n",
        "print(classification_report(y_test, y_pred))\n",
        "\n",
        "# 9️⃣ پیش‌بینی روی یک نمونه جدید\n",
        "test_sample = np.array(X_test[0]).reshape(1, -1)\n",
        "prediction = model.predict(test_sample)\n",
        "\n",
        "if prediction[0] == 1:\n",
        "    print(\"🚨 ورود مشکوک! نیاز به احراز هویت بیشتر.\")\n",
        "else:\n",
        "    print(\"✅ ورود ایمن است.\")\n"
      ]
    },
    {
      "cell_type": "code",
      "source": [
        "from sklearn.metrics import f1_score\n",
        "\n",
        "\n",
        "# 9️⃣ محاسبه دقت و F1-Score\n",
        "accuracy = accuracy_score(y_test, y_pred)\n",
        "f1 = f1_score(y_test, y_pred, average='weighted')\n",
        "print(f\"✅ دقت مدل: {accuracy * 100:.2f}%\")\n",
        "print(f\"📊 F1-Score: {f1:.4f}\")\n",
        "\n"
      ],
      "metadata": {
        "colab": {
          "base_uri": "https://localhost:8080/"
        },
        "id": "ir20hFvJmlx7",
        "outputId": "2a256b65-2131-4ef9-de6e-ed492485d849"
      },
      "execution_count": 7,
      "outputs": [
        {
          "output_type": "stream",
          "name": "stdout",
          "text": [
            "✅ دقت مدل: 94.28%\n",
            "📊 F1-Score: 0.9168\n"
          ]
        }
      ]
    },
    {
      "cell_type": "code",
      "source": [
        "train_acc = model.score(X_train, y_train)\n",
        "test_acc = model.score(X_test, y_test)\n",
        "\n",
        "print(f\"Train Accuracy: {train_acc:.2f}\")\n",
        "print(f\"Test Accuracy: {test_acc:.2f}\")\n",
        "\n",
        "if train_acc - test_acc > 0.1:\n",
        "    print(\"⚠️ احتمال بیش‌برازش وجود دارد!\")\n",
        "else:\n",
        "    print(\"✅ مدل احتمالاً بیش‌برازش ندارد.\")\n"
      ],
      "metadata": {
        "colab": {
          "base_uri": "https://localhost:8080/"
        },
        "id": "EWKGSxH_pqZ2",
        "outputId": "0024c0ef-4682-439c-fb9e-431002ee5867"
      },
      "execution_count": 10,
      "outputs": [
        {
          "output_type": "stream",
          "name": "stdout",
          "text": [
            "Train Accuracy: 0.94\n",
            "Test Accuracy: 0.94\n",
            "✅ مدل احتمالاً بیش‌برازش ندارد.\n"
          ]
        }
      ]
    }
  ]
}