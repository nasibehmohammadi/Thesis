{
  "nbformat": 4,
  "nbformat_minor": 0,
  "metadata": {
    "colab": {
      "provenance": [],
      "include_colab_link": true
    },
    "kernelspec": {
      "name": "python3",
      "display_name": "Python 3"
    },
    "language_info": {
      "name": "python"
    }
  },
  "cells": [
    {
      "cell_type": "markdown",
      "metadata": {
        "id": "view-in-github",
        "colab_type": "text"
      },
      "source": [
        "<a href=\"https://colab.research.google.com/github/nasibehmohammadi/Thesis/blob/main/1DT_d1.ipynb\" target=\"_parent\"><img src=\"https://colab.research.google.com/assets/colab-badge.svg\" alt=\"Open In Colab\"/></a>"
      ]
    },
    {
      "cell_type": "code",
      "execution_count": null,
      "metadata": {
        "colab": {
          "base_uri": "https://localhost:8080/"
        },
        "id": "HTotlgHcmGio",
        "outputId": "7ecb688b-4709-4795-9344-8e89e6cc5a1d"
      },
      "outputs": [
        {
          "output_type": "stream",
          "name": "stdout",
          "text": [
            "🔍 بررسی ۵ سطر اول دیتاست:\n",
            "   A      B      C       D       E       F       G       H       I       J\n",
            "0  1  39353  85475  117961  118300  123472  117905  117906  290919  117908\n",
            "1  1  17183   1540  117961  118343  123125  118536  118536  308574  118539\n",
            "2  1  36724  14457  118219  118220  117884  117879  267952   19721  117880\n",
            "3  1  36135   5396  117961  118343  119993  118321  240983  290919  118322\n",
            "4  1  42680   5905  117929  117930  119569  119323  123932   19793  119325\n",
            "✅ دقت مدل روی داده‌های تست: 94.28%\n",
            "📊 گزارش عملکرد مدل:\n",
            "              precision    recall  f1-score   support\n",
            "\n",
            "           0       0.25      0.01      0.02       369\n",
            "           1       0.94      1.00      0.97      6185\n",
            "\n",
            "    accuracy                           0.94      6554\n",
            "   macro avg       0.60      0.50      0.49      6554\n",
            "weighted avg       0.90      0.94      0.92      6554\n",
            "\n",
            "🚨 ورود مشکوک! نیاز به احراز هویت بیشتر.\n"
          ]
        }
      ],
      "source": [
        "import numpy as np\n",
        "import pandas as pd\n",
        "from sklearn.model_selection import train_test_split\n",
        "from sklearn.preprocessing import MinMaxScaler\n",
        "from sklearn.tree import DecisionTreeClassifier\n",
        "from sklearn.metrics import accuracy_score, classification_report\n",
        "\n",
        "file_path = \"/content/d1.csv\"\n",
        "\n",
        "df = pd.read_csv(file_path)\n",
        "\n",
        "print(\"🔍 بررسی ۵ سطر اول دیتاست:\")\n",
        "print(df.head())\n",
        "\n",
        "feature_columns = [\"B\", \"C\", \"D\", \"E\", \"F\", \"G\", \"H\", \"I\", \"J\"]\n",
        "target_column = \"A\"\n",
        "\n",
        "X_data = df[feature_columns].values\n",
        "y_data = df[target_column].values\n",
        "\n",
        "scaler = MinMaxScaler()\n",
        "X_data = scaler.fit_transform(X_data)\n",
        "\n",
        "X_train, X_test, y_train, y_test = train_test_split(X_data, y_data, test_size=0.2, random_state=42)\n",
        "\n",
        "model = DecisionTreeClassifier(criterion='gini', max_depth=5, random_state=42)\n",
        "\n",
        "model.fit(X_train, y_train)\n",
        "\n",
        "y_pred = model.predict(X_test)\n",
        "accuracy = accuracy_score(y_test, y_pred)\n",
        "print(f\"✅ دقت مدل روی داده‌های تست: {accuracy * 100:.2f}%\")\n",
        "print(\"📊 گزارش عملکرد مدل:\")\n",
        "print(classification_report(y_test, y_pred))\n",
        "\n",
        "test_sample = np.array(X_test[0]).reshape(1, -1)\n",
        "prediction = model.predict(test_sample)\n",
        "\n",
        "if prediction[0] == 1:\n",
        "    print(\"🚨 ورود مشکوک! نیاز به احراز هویت بیشتر.\")\n",
        "else:\n",
        "    print(\"✅ ورود ایمن است.\")\n"
      ]
    },
    {
      "cell_type": "code",
      "source": [
        "from sklearn.metrics import f1_score\n",
        "\n",
        "\n",
        "# 9️⃣ محاسبه دقت و F1-Score\n",
        "accuracy = accuracy_score(y_test, y_pred)\n",
        "f1 = f1_score(y_test, y_pred, average='weighted')\n",
        "print(f\"✅ دقت مدل: {accuracy * 100:.2f}%\")\n",
        "print(f\"📊 F1-Score: {f1:.4f}\")\n",
        "\n"
      ],
      "metadata": {
        "colab": {
          "base_uri": "https://localhost:8080/"
        },
        "id": "ir20hFvJmlx7",
        "outputId": "240995b1-8472-4a80-a5d3-13e378075899"
      },
      "execution_count": null,
      "outputs": [
        {
          "output_type": "stream",
          "name": "stdout",
          "text": [
            "✅ دقت مدل: 94.28%\n",
            "📊 F1-Score: 0.9168\n"
          ]
        }
      ]
    },
    {
      "cell_type": "code",
      "source": [
        "train_acc = model.score(X_train, y_train)\n",
        "test_acc = model.score(X_test, y_test)\n",
        "\n",
        "print(f\"Train Accuracy: {train_acc:.2f}\")\n",
        "print(f\"Test Accuracy: {test_acc:.2f}\")\n",
        "\n",
        "if train_acc - test_acc > 0.1:\n",
        "    print(\"⚠️ احتمال بیش‌برازش وجود دارد!\")\n",
        "else:\n",
        "    print(\"✅ مدل احتمالاً بیش‌برازش ندارد.\")\n"
      ],
      "metadata": {
        "colab": {
          "base_uri": "https://localhost:8080/"
        },
        "id": "EWKGSxH_pqZ2",
        "outputId": "a84e230c-9250-4e23-c9af-b9e0e89fd985"
      },
      "execution_count": null,
      "outputs": [
        {
          "output_type": "stream",
          "name": "stdout",
          "text": [
            "Train Accuracy: 0.94\n",
            "Test Accuracy: 0.94\n",
            "✅ مدل احتمالاً بیش‌برازش ندارد.\n"
          ]
        }
      ]
    },
    {
      "cell_type": "code",
      "source": [
        "from sklearn.model_selection import GridSearchCV\n",
        "from sklearn.tree import DecisionTreeClassifier\n",
        "\n",
        "# تعیین محدوده عمق‌های مختلف برای تست\n",
        "param_grid = {'max_depth': range(1, 10)}\n",
        "\n",
        "# اجرای جستجوی شبکه‌ای برای پیدا کردن بهترین مقدار\n",
        "grid_search = GridSearchCV(DecisionTreeClassifier(), param_grid, cv=5)\n",
        "grid_search.fit(X_train, y_train)\n",
        "\n",
        "# نمایش بهترین مقدار `max_depth`\n",
        "print(\"بهترین مقدار max_depth:\", grid_search.best_params_['max_depth'])\n"
      ],
      "metadata": {
        "colab": {
          "base_uri": "https://localhost:8080/"
        },
        "id": "tUGm7OV3sC0r",
        "outputId": "ad2b65ab-4ca3-47fb-b0c5-b07b1d6440ec"
      },
      "execution_count": null,
      "outputs": [
        {
          "output_type": "stream",
          "name": "stdout",
          "text": [
            "بهترین مقدار max_depth: 6\n"
          ]
        }
      ]
    }
  ]
}