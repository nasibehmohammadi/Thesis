{
  "nbformat": 4,
  "nbformat_minor": 0,
  "metadata": {
    "colab": {
      "provenance": [],
      "authorship_tag": "ABX9TyPUsST+E2kJtdp6RIFSiBU4",
      "include_colab_link": true
    },
    "kernelspec": {
      "name": "python3",
      "display_name": "Python 3"
    },
    "language_info": {
      "name": "python"
    }
  },
  "cells": [
    {
      "cell_type": "markdown",
      "metadata": {
        "id": "view-in-github",
        "colab_type": "text"
      },
      "source": [
        "<a href=\"https://colab.research.google.com/github/nasibehmohammadi/Thesis/blob/main/karimi_d8.ipynb\" target=\"_parent\"><img src=\"https://colab.research.google.com/assets/colab-badge.svg\" alt=\"Open In Colab\"/></a>"
      ]
    },
    {
      "cell_type": "code",
      "execution_count": 1,
      "metadata": {
        "colab": {
          "base_uri": "https://localhost:8080/"
        },
        "id": "jGzn7VaZxenh",
        "outputId": "d0d3bdce-0fe7-44bb-8d7e-bb3bbfce70e8"
      },
      "outputs": [
        {
          "output_type": "stream",
          "name": "stdout",
          "text": [
            "✅ مقدار بهینه K انتخاب شده: 2\n",
            "✅ Accuracy: 0.5017\n",
            "✅ F1-Score: 0.5229\n"
          ]
        }
      ],
      "source": [
        "import pandas as pd\n",
        "import numpy as np\n",
        "from sklearn.cluster import KMeans\n",
        "from sklearn.metrics import accuracy_score, f1_score\n",
        "from sklearn.preprocessing import LabelEncoder, StandardScaler\n",
        "\n",
        "# 📌 بارگذاری داده‌ها\n",
        "file_path = \"/content/d8.csv\"\n",
        "data = pd.read_csv(file_path)\n",
        "\n",
        "# 📌 پیش‌پردازش داده‌ها\n",
        "scaler = StandardScaler()\n",
        "data_scaled = scaler.fit_transform(data.drop(columns=['F']))  # مقیاس‌بندی داده‌ها (بدون ستون A)\n",
        "\n",
        "# 📌 تعیین مقدار بهینه K با روش Elbow\n",
        "costs = []\n",
        "k_range = range(2, 15)\n",
        "for k in k_range:\n",
        "    kmeans = KMeans(n_clusters=k, init='k-means++', n_init=10, max_iter=300, random_state=42)\n",
        "    kmeans.fit(data_scaled)\n",
        "    costs.append(kmeans.inertia_)\n",
        "\n",
        "optimal_k = k_range[np.argmin(np.gradient(costs))]\n",
        "print(f\"✅ مقدار بهینه K انتخاب شده: {optimal_k}\")\n",
        "\n",
        "# 📌 اجرای K-Means با مقدار بهینه‌ی K\n",
        "kmeans = KMeans(n_clusters=optimal_k, init='k-means++', n_init=10, max_iter=300, random_state=42)\n",
        "clusters = kmeans.fit_predict(data_scaled)\n",
        "data['Cluster'] = clusters  # افزودن برچسب خوشه به داده‌ها\n",
        "\n",
        "# 📌 بررسی وجود برچسب واقعی و محاسبه Accuracy و F1-Score\n",
        "if 'F' in data.columns:\n",
        "    true_labels = data['F']\n",
        "    predicted_labels = data['Cluster']\n",
        "\n",
        "    accuracy = accuracy_score(true_labels, predicted_labels)\n",
        "    f1 = f1_score(true_labels, predicted_labels, average='weighted')\n",
        "    print(f\"✅ Accuracy: {accuracy:.4f}\")\n",
        "    print(f\"✅ F1-Score: {f1:.4f}\")\n",
        "else:\n",
        "    print(\"⚠ داده‌های شما شامل برچسب واقعی نیستند. Accuracy قابل محاسبه نیست.\")"
      ]
    }
  ]
}