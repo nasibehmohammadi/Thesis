{
  "cells": [
    {
      "cell_type": "markdown",
      "metadata": {
        "id": "view-in-github",
        "colab_type": "text"
      },
      "source": [
        "<a href=\"https://colab.research.google.com/github/nasibehmohammadi/Thesis/blob/main/Create_Dataset2.ipynb\" target=\"_parent\"><img src=\"https://colab.research.google.com/assets/colab-badge.svg\" alt=\"Open In Colab\"/></a>"
      ]
    },
    {
      "cell_type": "code",
      "execution_count": 1,
      "metadata": {
        "colab": {
          "base_uri": "https://localhost:8080/"
        },
        "id": "0hx944AxVRCy",
        "outputId": "53e954bb-a3be-493d-d7d6-348dbdb2df79"
      },
      "outputs": [
        {
          "output_type": "stream",
          "name": "stderr",
          "text": [
            "<ipython-input-1-ed3413b85505>:10: DeprecationWarning: Conversion of an array with ndim > 0 to a scalar is deprecated, and will error in future. Ensure you extract a single element from your array before performing this operation. (Deprecated NumPy 1.25.)\n",
            "  P1[0][5] = randint(0, 2, 1)\n"
          ]
        },
        {
          "output_type": "stream",
          "name": "stdout",
          "text": [
            "4570\n"
          ]
        }
      ],
      "source": [
        "import numpy as np\n",
        "from numpy.random import seed\n",
        "from numpy.random import randint\n",
        "#count1 = 0\n",
        "def InitDataset():\n",
        "    count1=0\n",
        "    P1 = np.zeros((10000,6));\n",
        "    #seed(1)\n",
        "    P1[0] = randint(0, 10, 6)\n",
        "    P1[0][5] = randint(0, 2, 1)\n",
        "    file_name2 = \"test2.txt\"\n",
        "    file = open(file_name2, \"w\")\n",
        "    #count = 0;\n",
        "    for i in range(10000):\n",
        "        for j in range(6):\n",
        "            file.write(str(P1[i][j])+ \" \")\n",
        "        file.write(\"\\n\")\n",
        "    file.close()\n",
        "    return(P1)\n",
        "############################################\n",
        "def CreateSample():\n",
        "    #seed(1)\n",
        "    # generate some integers\n",
        "    P2 = randint(0, 10, 6)\n",
        "    #print(P2)\n",
        "    return(P2)\n",
        "############################################\n",
        "def F1(P1,P2,k):\n",
        "    count = 0\n",
        "    r= range(k-20,k-1)\n",
        "    #r=[k-10,k-9,k-8,k-7,k-6,k-5,k-4,k-3,k-2,k-1]\n",
        "    for i in r:\n",
        "        if P1[i][1] >= 2 and P1[i][0] == P2[0]:\n",
        "            count+=1\n",
        "    if count >= 2:\n",
        "        return 1\n",
        "    else:\n",
        "        return 0\n",
        "############################################\n",
        "\n",
        "def F2(P1,P2,k):\n",
        "    count = 0\n",
        "    r= range(k-20,k-1)\n",
        "    #r=[k-10,k-9,k-8,k-7,k-6,k-5,k-4,k-3,k-2,k-1]\n",
        "    for i in r:\n",
        "        if P1[i][2] >=1:# and P1[i][0] == P2[0]:\n",
        "            return 1\n",
        "    return 0\n",
        "\n",
        "############################################\n",
        "\n",
        "def F3(P1,P2,k):\n",
        "    count = 0\n",
        "    r= range(k-20,k-1)\n",
        "    #r=[k-10,k-9,k-8,k-7,k-6,k-5,k-4,k-3,k-2,k-1]\n",
        "    for i in r:\n",
        "        if P1[i][1] >= P1[i][0]:\n",
        "            count+=1\n",
        "    if count >= 1:\n",
        "        return 1\n",
        "    else:\n",
        "        return 0\n",
        "############################################\n",
        "\n",
        "def F4(P1,P2,k):\n",
        "    count = 0\n",
        "    r= range(k-20,k-1)\n",
        "    #r=[k-10,k-9,k-8,k-7,k-6,k-5,k-4,k-3,k-2,k-1]\n",
        "    for i in r:\n",
        "        if P1[i][1] >= P2[2]:# and P1[i][3] >= P2[3]:\n",
        "            count+=1\n",
        "    if count >= 1:\n",
        "        return 1\n",
        "    else:\n",
        "        return 0\n",
        "############################################\n",
        "\n",
        "def InsertNewSample(P1,P2,k, grant):\n",
        "    P1[k] = P2\n",
        "    P1[k][5] = grant\n",
        "############################################\n",
        "\n",
        "def InsertNewSamples(P1):\n",
        "    count1=0\n",
        "    for i in range(20,10000):\n",
        "        P2 = CreateSample()\n",
        "        if F1(P1, P2, i) == 1 and F2(P1, P2, i) == 1 and F3(P1, P2, i) == 1 and F4(P1, P2, i) == 1:\n",
        "            InsertNewSample(P1, P2, i, 1)\n",
        "            count1+=1\n",
        "        else:\n",
        "            InsertNewSample(P1, P2, i, 0)\n",
        "\n",
        "    print(count1)\n",
        "    file_name2 = \"test2.txt\"\n",
        "    file = open(file_name2, \"w\")\n",
        "    for i in range(20, 10000, 1):\n",
        "        for j in range(6):\n",
        "            file.write(str(P1[i][j])+ \" \")\n",
        "        file.write(\"\\n\")\n",
        "    file.close()\n",
        "#########################################\n",
        "\n",
        "\n",
        "\n",
        "#\n",
        "P1 = InitDataset()\n",
        "#count1=0\n",
        "InsertNewSamples(P1)\n",
        "\n",
        "\n",
        "\n",
        "\n",
        "\n",
        "\n",
        "\n",
        "\n",
        "\n",
        "\n"
      ],
      "id": "0hx944AxVRCy"
    },
    {
      "cell_type": "code",
      "execution_count": null,
      "metadata": {
        "id": "qbPCUqJHVRC2"
      },
      "outputs": [],
      "source": [],
      "id": "qbPCUqJHVRC2"
    },
    {
      "cell_type": "code",
      "execution_count": null,
      "metadata": {
        "id": "d8_y6G3FVRC3"
      },
      "outputs": [],
      "source": [],
      "id": "d8_y6G3FVRC3"
    }
  ],
  "metadata": {
    "kernelspec": {
      "display_name": "Python 3",
      "language": "python",
      "name": "python3"
    },
    "language_info": {
      "codemirror_mode": {
        "name": "ipython",
        "version": 3
      },
      "file_extension": ".py",
      "mimetype": "text/x-python",
      "name": "python",
      "nbconvert_exporter": "python",
      "pygments_lexer": "ipython3",
      "version": "3.7.4"
    },
    "colab": {
      "provenance": [],
      "include_colab_link": true
    }
  },
  "nbformat": 4,
  "nbformat_minor": 5
}