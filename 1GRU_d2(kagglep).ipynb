{
  "nbformat": 4,
  "nbformat_minor": 0,
  "metadata": {
    "colab": {
      "provenance": [],
      "include_colab_link": true
    },
    "kernelspec": {
      "name": "python3",
      "display_name": "Python 3"
    },
    "language_info": {
      "name": "python"
    }
  },
  "cells": [
    {
      "cell_type": "markdown",
      "metadata": {
        "id": "view-in-github",
        "colab_type": "text"
      },
      "source": [
        "<a href=\"https://colab.research.google.com/github/nasibehmohammadi/Thesis/blob/main/1GRU_d2(kagglep).ipynb\" target=\"_parent\"><img src=\"https://colab.research.google.com/assets/colab-badge.svg\" alt=\"Open In Colab\"/></a>"
      ]
    },
    {
      "cell_type": "code",
      "execution_count": null,
      "metadata": {
        "colab": {
          "base_uri": "https://localhost:8080/"
        },
        "id": "yac-iGOcU-k5",
        "outputId": "18fd0a41-dfb1-48ce-d050-9584b7cc76a0"
      },
      "outputs": [
        {
          "output_type": "stream",
          "name": "stdout",
          "text": [
            "🔍 بررسی ۵ سطر اول دیتاست:\n",
            "   A      B      C       D       E       F       G       H       I       J\n",
            "0  1  39353  85475  117961  118300  123472  117905  117906  290919  117908\n",
            "1  1  17183   1540  117961  118343  123125  118536  118536  308574  118539\n",
            "2  1  36724  14457  118219  118220  117884  117879  267952   19721  117880\n",
            "3  1  36135   5396  117961  118343  119993  118321  240983  290919  118322\n",
            "4  1  42680   5905  117929  117930  119569  119323  123932   19793  119325\n"
          ]
        },
        {
          "output_type": "stream",
          "name": "stderr",
          "text": [
            "/usr/local/lib/python3.11/dist-packages/keras/src/layers/rnn/rnn.py:200: UserWarning: Do not pass an `input_shape`/`input_dim` argument to a layer. When using Sequential models, prefer using an `Input(shape)` object as the first layer in the model instead.\n",
            "  super().__init__(**kwargs)\n"
          ]
        },
        {
          "output_type": "stream",
          "name": "stdout",
          "text": [
            "Epoch 1/10\n",
            "\u001b[1m82/82\u001b[0m \u001b[32m━━━━━━━━━━━━━━━━━━━━\u001b[0m\u001b[37m\u001b[0m \u001b[1m11s\u001b[0m 27ms/step - accuracy: 0.9272 - loss: 0.3501 - val_accuracy: 0.9358 - val_loss: 0.2399\n",
            "Epoch 2/10\n",
            "\u001b[1m82/82\u001b[0m \u001b[32m━━━━━━━━━━━━━━━━━━━━\u001b[0m\u001b[37m\u001b[0m \u001b[1m2s\u001b[0m 16ms/step - accuracy: 0.9404 - loss: 0.2364 - val_accuracy: 0.9358 - val_loss: 0.2406\n",
            "Epoch 3/10\n",
            "\u001b[1m82/82\u001b[0m \u001b[32m━━━━━━━━━━━━━━━━━━━━\u001b[0m\u001b[37m\u001b[0m \u001b[1m1s\u001b[0m 17ms/step - accuracy: 0.9241 - loss: 0.2716 - val_accuracy: 0.9358 - val_loss: 0.2577\n",
            "Epoch 4/10\n",
            "\u001b[1m82/82\u001b[0m \u001b[32m━━━━━━━━━━━━━━━━━━━━\u001b[0m\u001b[37m\u001b[0m \u001b[1m3s\u001b[0m 20ms/step - accuracy: 0.9380 - loss: 0.2408 - val_accuracy: 0.9358 - val_loss: 0.2401\n",
            "Epoch 5/10\n",
            "\u001b[1m82/82\u001b[0m \u001b[32m━━━━━━━━━━━━━━━━━━━━\u001b[0m\u001b[37m\u001b[0m \u001b[1m3s\u001b[0m 26ms/step - accuracy: 0.9386 - loss: 0.2336 - val_accuracy: 0.9358 - val_loss: 0.2402\n",
            "Epoch 6/10\n",
            "\u001b[1m82/82\u001b[0m \u001b[32m━━━━━━━━━━━━━━━━━━━━\u001b[0m\u001b[37m\u001b[0m \u001b[1m1s\u001b[0m 17ms/step - accuracy: 0.9368 - loss: 0.2384 - val_accuracy: 0.9358 - val_loss: 0.2419\n",
            "Epoch 7/10\n",
            "\u001b[1m82/82\u001b[0m \u001b[32m━━━━━━━━━━━━━━━━━━━━\u001b[0m\u001b[37m\u001b[0m \u001b[1m3s\u001b[0m 16ms/step - accuracy: 0.9408 - loss: 0.2272 - val_accuracy: 0.9358 - val_loss: 0.2406\n",
            "Epoch 8/10\n",
            "\u001b[1m82/82\u001b[0m \u001b[32m━━━━━━━━━━━━━━━━━━━━\u001b[0m\u001b[37m\u001b[0m \u001b[1m3s\u001b[0m 16ms/step - accuracy: 0.9437 - loss: 0.2209 - val_accuracy: 0.9358 - val_loss: 0.2405\n",
            "Epoch 9/10\n",
            "\u001b[1m82/82\u001b[0m \u001b[32m━━━━━━━━━━━━━━━━━━━━\u001b[0m\u001b[37m\u001b[0m \u001b[1m3s\u001b[0m 16ms/step - accuracy: 0.9448 - loss: 0.2169 - val_accuracy: 0.9358 - val_loss: 0.2410\n",
            "Epoch 10/10\n",
            "\u001b[1m82/82\u001b[0m \u001b[32m━━━━━━━━━━━━━━━━━━━━\u001b[0m\u001b[37m\u001b[0m \u001b[1m2s\u001b[0m 22ms/step - accuracy: 0.9404 - loss: 0.2315 - val_accuracy: 0.9358 - val_loss: 0.2406\n",
            "\u001b[1m21/21\u001b[0m \u001b[32m━━━━━━━━━━━━━━━━━━━━\u001b[0m\u001b[37m\u001b[0m \u001b[1m0s\u001b[0m 8ms/step - accuracy: 0.9436 - loss: 0.2189\n",
            "✅ دقت مدل روی داده‌های تست: 93.58%\n",
            "\u001b[1m1/1\u001b[0m \u001b[32m━━━━━━━━━━━━━━━━━━━━\u001b[0m\u001b[37m\u001b[0m \u001b[1m1s\u001b[0m 683ms/step\n",
            "🚨 ورود مشکوک! نیاز به احراز هویت بیشتر.\n"
          ]
        }
      ],
      "source": [
        "import numpy as np\n",
        "import pandas as pd\n",
        "import tensorflow as tf\n",
        "from tensorflow.keras.models import Sequential\n",
        "from tensorflow.keras.layers import GRU, Dense, Dropout\n",
        "from sklearn.model_selection import train_test_split\n",
        "from sklearn.preprocessing import MinMaxScaler\n",
        "\n",
        "file_path = \"/content/d2.csv\"\n",
        "df = pd.read_csv(file_path)\n",
        "\n",
        "print(\"🔍 بررسی ۵ سطر اول دیتاست:\")\n",
        "print(df.head())\n",
        "\n",
        "feature_columns = [\"B\",\"C\",\"D\",\"E\",\"F\",\"G\",\"H\",\"I\",\"J\"]\n",
        "target_column = \"A\"\n",
        "\n",
        "X_data = df[feature_columns].values\n",
        "y_data = df[target_column].values\n",
        "\n",
        "num_features = X_data.shape[1]\n",
        "\n",
        "time_steps = 10\n",
        "X_sequences = []\n",
        "y_sequences = []\n",
        "\n",
        "for i in range(len(X_data) - time_steps):\n",
        "    X_sequences.append(X_data[i : i + time_steps])\n",
        "    y_sequences.append(y_data[i + time_steps])\n",
        "\n",
        "X_sequences = np.array(X_sequences)\n",
        "y_sequences = np.array(y_sequences)\n",
        "\n",
        "X_train, X_test, y_train, y_test = train_test_split(X_sequences, y_sequences, test_size=0.2, random_state=42)\n",
        "\n",
        "scaler = MinMaxScaler()\n",
        "X_train = X_train.reshape(-1, num_features)\n",
        "X_test = X_test.reshape(-1, num_features)\n",
        "\n",
        "X_train = scaler.fit_transform(X_train)\n",
        "X_test = scaler.transform(X_test)\n",
        "\n",
        "X_train = X_train.reshape(-1, time_steps, num_features)\n",
        "X_test = X_test.reshape(-1, time_steps, num_features)\n",
        "\n",
        "model = Sequential([\n",
        "    GRU(64, return_sequences=True, input_shape=(time_steps, num_features)),\n",
        "    Dropout(0.2),\n",
        "    GRU(32, return_sequences=False),\n",
        "    Dropout(0.2),\n",
        "    Dense(16, activation='relu'),\n",
        "    Dense(1, activation='sigmoid')\n",
        "])\n",
        "\n",
        "model.compile(optimizer='adam', loss='binary_crossentropy', metrics=['accuracy'])\n",
        "\n",
        "history = model.fit(X_train, y_train, epochs=10, batch_size=32, validation_data=(X_test, y_test))\n",
        "\n",
        "loss, accuracy = model.evaluate(X_test, y_test)\n",
        "print(f\"✅ دقت مدل روی داده‌های تست: {accuracy * 100:.2f}%\")\n",
        "\n",
        "test_sample = X_test[0].reshape(1, time_steps, num_features)\n",
        "prediction = model.predict(test_sample)\n",
        "\n",
        "if prediction > 0.5:\n",
        "    print(\"🚨 ورود مشکوک! نیاز به احراز هویت بیشتر.\")\n",
        "else:\n",
        "    print(\"✅ ورود ایمن است.\")"
      ]
    },
    {
      "cell_type": "code",
      "source": [
        "from sklearn.metrics import f1_score"
      ],
      "metadata": {
        "id": "AXmft_j8VSRF"
      },
      "execution_count": null,
      "outputs": []
    },
    {
      "cell_type": "code",
      "source": [
        "from sklearn.metrics import f1_score\n",
        "\n",
        "# 1️⃣ پیش‌بینی بر روی مجموعه تست\n",
        "y_pred = model.predict(X_test)\n",
        "\n",
        "# 2️⃣ تبدیل احتمالات به برچسب‌های 0 و 1 (اگر مقدار احتمال > 0.5 باشد، کلاس 1 است، در غیر این صورت 0)\n",
        "y_pred_classes = (y_pred > 0.5).astype(int)\n",
        "\n",
        "# 3️⃣ محاسبه F1-Score\n",
        "f1 = f1_score(y_test, y_pred_classes)\n",
        "\n",
        "print(f\"🎯 F1-Score مدل: {f1:.4f}\")"
      ],
      "metadata": {
        "colab": {
          "base_uri": "https://localhost:8080/"
        },
        "id": "WbalO1b5VSbS",
        "outputId": "85e736b3-4d52-458d-da72-86a4d95b022f"
      },
      "execution_count": null,
      "outputs": [
        {
          "output_type": "stream",
          "name": "stdout",
          "text": [
            "\u001b[1m21/21\u001b[0m \u001b[32m━━━━━━━━━━━━━━━━━━━━\u001b[0m\u001b[37m\u001b[0m \u001b[1m0s\u001b[0m 5ms/step\n",
            "🎯 F1-Score مدل: 0.9668\n"
          ]
        }
      ]
    }
  ]
}