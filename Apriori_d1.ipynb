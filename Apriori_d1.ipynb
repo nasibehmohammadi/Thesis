{
  "nbformat": 4,
  "nbformat_minor": 0,
  "metadata": {
    "colab": {
      "provenance": [],
      "include_colab_link": true
    },
    "kernelspec": {
      "name": "python3",
      "display_name": "Python 3"
    },
    "language_info": {
      "name": "python"
    }
  },
  "cells": [
    {
      "cell_type": "markdown",
      "metadata": {
        "id": "view-in-github",
        "colab_type": "text"
      },
      "source": [
        "<a href=\"https://colab.research.google.com/github/nasibehmohammadi/Thesis/blob/main/Apriori_d1.ipynb\" target=\"_parent\"><img src=\"https://colab.research.google.com/assets/colab-badge.svg\" alt=\"Open In Colab\"/></a>"
      ]
    },
    {
      "cell_type": "code",
      "source": [
        "import pandas as pd\n",
        "from mlxtend.frequent_patterns import apriori, association_rules\n",
        "from mlxtend.preprocessing import TransactionEncoder\n",
        "\n",
        "file_path=\"/content/d1.csv\"\n",
        "def load_dataset(file_path):\n",
        "    df = pd.read_csv(file_path)\n",
        "    transactions = df.apply(lambda row: row.dropna().astype(str).tolist(), axis=1).tolist()\n",
        "    return transactions\n",
        "\n",
        "file_path = \"/content/d1.csv\"\n",
        "transactions = load_dataset(file_path)\n",
        "\n",
        "te = TransactionEncoder()\n",
        "data_encoded_apriori = te.fit_transform(transactions)\n",
        "df_encoded = pd.DataFrame(data_encoded_apriori, columns=te.columns_)\n",
        "\n",
        "min_support = 0.05\n",
        "frequent_itemsets = apriori(df_encoded, min_support=min_support, use_colnames=True)\n",
        "\n",
        "min_confidence = 0.79\n",
        "rules_apriori = association_rules(frequent_itemsets, metric=\"confidence\", min_threshold=min_confidence)\n",
        "\n",
        "if not rules_apriori.empty:\n",
        "    accuracy = rules_apriori['confidence'].mean()\n",
        "    print(f\"دقت (میانگین Confidence) قوانین: {accuracy:.4f}\")\n",
        "else:\n",
        "    accuracy = 0\n",
        "    print(\"هیچ قانونی استخراج نشد.\")\n"
      ],
      "metadata": {
        "colab": {
          "base_uri": "https://localhost:8080/"
        },
        "id": "1kuzN5m9DV31",
        "outputId": "6fb67d7a-bbac-47f0-8e69-5766360bdfba"
      },
      "execution_count": null,
      "outputs": [
        {
          "output_type": "stream",
          "name": "stderr",
          "text": [
            "/usr/local/lib/python3.11/dist-packages/ipykernel/ipkernel.py:283: DeprecationWarning: `should_run_async` will not call `transform_cell` automatically in the future. Please pass the result to `transformed_cell` argument and any exception that happen during thetransform in `preprocessing_exc_tuple` in IPython 7.17 and above.\n",
            "  and should_run_async(code)\n"
          ]
        },
        {
          "output_type": "stream",
          "name": "stdout",
          "text": [
            "دقت (میانگین Confidence) قوانین: 0.9228\n"
          ]
        }
      ]
    }
  ]
}