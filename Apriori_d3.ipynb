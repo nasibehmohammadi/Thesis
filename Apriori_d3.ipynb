{
  "nbformat": 4,
  "nbformat_minor": 0,
  "metadata": {
    "colab": {
      "provenance": [],
      "include_colab_link": true
    },
    "kernelspec": {
      "name": "python3",
      "display_name": "Python 3"
    },
    "language_info": {
      "name": "python"
    }
  },
  "cells": [
    {
      "cell_type": "markdown",
      "metadata": {
        "id": "view-in-github",
        "colab_type": "text"
      },
      "source": [
        "<a href=\"https://colab.research.google.com/github/nasibehmohammadi/Thesis/blob/main/Apriori_d3.ipynb\" target=\"_parent\"><img src=\"https://colab.research.google.com/assets/colab-badge.svg\" alt=\"Open In Colab\"/></a>"
      ]
    },
    {
      "cell_type": "code",
      "execution_count": null,
      "metadata": {
        "colab": {
          "base_uri": "https://localhost:8080/"
        },
        "id": "Klme2K8yO_MM",
        "outputId": "e22f2fc1-b604-4319-9567-ba4f161d4cd5"
      },
      "outputs": [
        {
          "output_type": "stream",
          "name": "stdout",
          "text": [
            "دقت (میانگین Confidence) قوانین: 0.9989\n"
          ]
        }
      ],
      "source": [
        "import pandas as pd\n",
        "from mlxtend.frequent_patterns import apriori, association_rules\n",
        "from mlxtend.preprocessing import TransactionEncoder\n",
        "\n",
        "file_path=\"/content/d3.csv\"\n",
        "def load_dataset(file_path):\n",
        "    df = pd.read_csv(file_path)\n",
        "    transactions = df.apply(lambda row: row.dropna().astype(str).tolist(), axis=1).tolist()\n",
        "    return transactions\n",
        "\n",
        "file_path = \"/content/d3.csv\"\n",
        "transactions = load_dataset(file_path)\n",
        "\n",
        "te = TransactionEncoder()\n",
        "data_encoded_apriori = te.fit_transform(transactions)\n",
        "df_encoded = pd.DataFrame(data_encoded_apriori, columns=te.columns_)\n",
        "\n",
        "min_support = 0.01\n",
        "frequent_itemsets = apriori(df_encoded, min_support=min_support, use_colnames=True)\n",
        "\n",
        "min_confidence = 0.4\n",
        "rules_apriori = association_rules(frequent_itemsets, metric=\"confidence\", min_threshold=min_confidence)\n",
        "\n",
        "if not rules_apriori.empty:\n",
        "    accuracy = rules_apriori['confidence'].mean()\n",
        "    print(f\"دقت (میانگین Confidence) قوانین: {accuracy:.4f}\")\n",
        "else:\n",
        "    accuracy = 0\n",
        "    print(\"هیچ قانونی استخراج نشد.\")"
      ]
    }
  ]
}