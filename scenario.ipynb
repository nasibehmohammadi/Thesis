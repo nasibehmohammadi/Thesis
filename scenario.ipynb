{
  "nbformat": 4,
  "nbformat_minor": 0,
  "metadata": {
    "colab": {
      "provenance": [],
      "authorship_tag": "ABX9TyOW/2tm9mncQsbypEtZESrP",
      "include_colab_link": true
    },
    "kernelspec": {
      "name": "python3",
      "display_name": "Python 3"
    },
    "language_info": {
      "name": "python"
    }
  },
  "cells": [
    {
      "cell_type": "markdown",
      "metadata": {
        "id": "view-in-github",
        "colab_type": "text"
      },
      "source": [
        "<a href=\"https://colab.research.google.com/github/nasibehmohammadi/Thesis/blob/main/scenario.ipynb\" target=\"_parent\"><img src=\"https://colab.research.google.com/assets/colab-badge.svg\" alt=\"Open In Colab\"/></a>"
      ]
    },
    {
      "cell_type": "code",
      "execution_count": 2,
      "metadata": {
        "colab": {
          "base_uri": "https://localhost:8080/"
        },
        "id": "wP-PEiqU5soD",
        "outputId": "387ac1e8-d46f-4264-ec60-b2931ff9a67f"
      },
      "outputs": [
        {
          "output_type": "stream",
          "name": "stdout",
          "text": [
            "✅ دیتاست بیماران به‌روزرسانی شد و بیماران جدید اضافه شدند!\n"
          ]
        }
      ],
      "source": [
        "import numpy as np\n",
        "import pandas as pd\n",
        "import random\n",
        "\n",
        "# 1️⃣ ایجاد دیتاست اولیه بیماران\n",
        "def init_dataset(num_samples=10000):\n",
        "    np.random.seed(42)\n",
        "    dataset = pd.DataFrame({\n",
        "        'SpO2': np.random.randint(85, 100, num_samples),  # سطح اکسیژن خون (85% - 100%)\n",
        "        'HeartRate': np.random.randint(50, 130, num_samples),  # ضربان قلب (50 - 130 bpm)\n",
        "        'BloodPressure': np.random.randint(80, 180, num_samples),  # فشار خون (80 - 180 mmHg)\n",
        "        'Temperature': np.random.uniform(35.0, 40.0, num_samples),  # دمای بدن (35 - 40 درجه سانتی‌گراد)\n",
        "        'Alerts': np.zeros(num_samples, dtype=int),  # تعداد هشدارهای قبلی (ابتدا 0)\n",
        "        'Emergency': np.zeros(num_samples, dtype=int)  # نیاز به اقدام فوری (0: پایدار، 1: اضطراری)\n",
        "    })\n",
        "    dataset.to_csv(\"patients_data.csv\", index=False)\n",
        "    return dataset\n",
        "\n",
        "# 2️⃣ ایجاد یک نمونه جدید بیمار\n",
        "def create_patient_sample():\n",
        "    return {\n",
        "        'SpO2': random.randint(85, 100),\n",
        "        'HeartRate': random.randint(50, 130),\n",
        "        'BloodPressure': random.randint(80, 180),\n",
        "        'Temperature': round(random.uniform(35.0, 40.0), 1),\n",
        "        'Alerts': 0,  # مقدار اولیه 0\n",
        "        'Emergency': 0  # مقدار اولیه 0\n",
        "    }\n",
        "\n",
        "# 3️⃣ توابع بررسی شرایط اضطراری\n",
        "def check_emergency(patient):\n",
        "    emergency = 0  # فرض بر پایدار بودن بیمار\n",
        "\n",
        "    if patient['SpO2'] < 90:\n",
        "        emergency = 1  # کاهش اکسیژن خون\n",
        "    if patient['BloodPressure'] < 90 or patient['BloodPressure'] > 170:\n",
        "        emergency = 1  # فشار خون غیرطبیعی\n",
        "    if patient['HeartRate'] < 50 or patient['HeartRate'] > 120:\n",
        "        emergency = 1  # مشکل ضربان قلب\n",
        "    if patient['Temperature'] > 39 or patient['Temperature'] < 35.5:\n",
        "        emergency = 1  # دمای غیرطبیعی\n",
        "\n",
        "    return emergency\n",
        "\n",
        "# 4️⃣ بررسی بیماران جدید و بروزرسانی دیتاست\n",
        "def process_patients(dataset, num_new_patients=500):\n",
        "    new_patients = []\n",
        "    for _ in range(num_new_patients):\n",
        "        new_patient = create_patient_sample()\n",
        "        new_patient['Emergency'] = check_emergency(new_patient)\n",
        "        if new_patient['Emergency'] == 1:\n",
        "            new_patient['Alerts'] += 1  # افزایش تعداد هشدارها\n",
        "        new_patients.append(new_patient)\n",
        "    dataset = pd.concat([dataset, pd.DataFrame(new_patients)], ignore_index=True)\n",
        "    dataset.to_csv(\"patients_data.csv\", index=False)\n",
        "    return dataset\n",
        "\n",
        "# اجرای برنامه\n",
        "dataset = init_dataset()\n",
        "dataset = process_patients(dataset, num_new_patients=500)\n",
        "\n",
        "print(\"✅ دیتاست بیماران به‌روزرسانی شد و بیماران جدید اضافه شدند!\")\n",
        "\n"
      ]
    },
    {
      "cell_type": "code",
      "source": [
        "import pandas as pd\n",
        "\n",
        "# بارگذاری دیتاست\n",
        "dataset = pd.read_csv(\"patients_data.csv\")\n",
        "\n",
        "# بررسی توزیع مقادیر Emergency\n",
        "emergency_counts = dataset['Emergency'].value_counts()\n",
        "print(emergency_counts)\n",
        "\n",
        "# محاسبه درصد هر کلاس\n",
        "percentages = dataset['Emergency'].value_counts(normalize=True) * 100\n",
        "print(\"✅ درصد بیماران در وضعیت اضطراری:\", percentages[1])\n",
        "print(\"✅ درصد بیماران پایدار:\", percentages[0])\n"
      ],
      "metadata": {
        "colab": {
          "base_uri": "https://localhost:8080/"
        },
        "id": "oSwkwAdW68WD",
        "outputId": "97238758-d594-458d-c285-dd800a8190d5"
      },
      "execution_count": 3,
      "outputs": [
        {
          "output_type": "stream",
          "name": "stdout",
          "text": [
            "Emergency\n",
            "0    10172\n",
            "1      328\n",
            "Name: count, dtype: int64\n",
            "✅ درصد بیماران در وضعیت اضطراری: 3.123809523809524\n",
            "✅ درصد بیماران پایدار: 96.87619047619047\n"
          ]
        }
      ]
    }
  ]
}