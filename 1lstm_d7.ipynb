{
  "nbformat": 4,
  "nbformat_minor": 0,
  "metadata": {
    "colab": {
      "provenance": [],
      "authorship_tag": "ABX9TyMBA72dgQ/9ooF8dpADTT/a",
      "include_colab_link": true
    },
    "kernelspec": {
      "name": "python3",
      "display_name": "Python 3"
    },
    "language_info": {
      "name": "python"
    }
  },
  "cells": [
    {
      "cell_type": "markdown",
      "metadata": {
        "id": "view-in-github",
        "colab_type": "text"
      },
      "source": [
        "<a href=\"https://colab.research.google.com/github/nasibehmohammadi/Thesis/blob/main/1lstm_d7.ipynb\" target=\"_parent\"><img src=\"https://colab.research.google.com/assets/colab-badge.svg\" alt=\"Open In Colab\"/></a>"
      ]
    },
    {
      "cell_type": "code",
      "execution_count": 1,
      "metadata": {
        "id": "TGdXRdwxnVRg"
      },
      "outputs": [],
      "source": [
        "import tensorflow as tf\n",
        "from tensorflow.keras import backend as K\n",
        "\n",
        "def focal_loss(gamma=2., alpha=0.25):\n",
        "    def focal_loss_fixed(y_true, y_pred):\n",
        "        # تبدیل y_true به float32\n",
        "        y_true = K.cast(y_true, dtype=tf.float32)\n",
        "\n",
        "        # Clip predictions to prevent log(0) errors\n",
        "        y_pred = K.clip(y_pred, K.epsilon(), 1. - K.epsilon())\n",
        "\n",
        "        # Compute cross-entropy loss\n",
        "        cross_entropy = -y_true * K.log(y_pred)\n",
        "\n",
        "        # Apply focal loss formula\n",
        "        loss = alpha * K.pow(1 - y_pred, gamma) * cross_entropy\n",
        "\n",
        "        return K.sum(loss, axis=-1)\n",
        "\n",
        "    return focal_loss_fixed"
      ]
    },
    {
      "cell_type": "code",
      "source": [
        "import numpy as np\n",
        "import pandas as pd\n",
        "import tensorflow as tf\n",
        "from tensorflow.keras.models import Sequential\n",
        "from tensorflow.keras.layers import LSTM, Dense, Dropout\n",
        "from sklearn.model_selection import train_test_split\n",
        "from sklearn.preprocessing import MinMaxScaler\n",
        "\n",
        "# 1️⃣ بارگذاری دیتاست شخصی (لطفاً نام فایل را تغییر بده!)\n",
        "file_path = \"/content/d7.csv\"  # نام فایل خود را اینجا بگذار\n",
        "df = pd.read_csv(file_path)\n",
        "\n",
        "# 2️⃣ بررسی ساختار داده‌ها\n",
        "print(\"🔍 بررسی ۵ سطر اول دیتاست:\")\n",
        "print(df.head())\n",
        "\n",
        "# 3️⃣ مشخص کردن ویژگی‌های ورودی و خروجی\n",
        "# نام ستون‌ها را بر اساس دیتاست خود تغییر بده!\n",
        "feature_columns = [\"A\",\"B\",\"C\",\"D\",\"E\"]  # نام ویژگی‌ها\n",
        "target_column = \"F\"  # نام ستون هدف (برچسب‌ها)\n",
        "\n",
        "# تبدیل دیتافریم به آرایه NumPy\n",
        "X_data = df[feature_columns].values\n",
        "y_data = df[target_column].values\n",
        "\n",
        "# مشخص کردن تعداد ویژگی‌ها\n",
        "num_features = X_data.shape[1]\n",
        "\n",
        "# 4️⃣ تنظیم داده‌ها برای مدل LSTM\n",
        "time_steps = 30  # تعداد مراحل زمانی (مثلاً ۱۰ ورود اخیر هر کاربر)\n",
        "\n",
        "# ایجاد دنباله‌های زمانی برای LSTM\n",
        "X_sequences = []\n",
        "y_sequences = []\n",
        "\n",
        "for i in range(len(X_data) - time_steps):\n",
        "    X_sequences.append(X_data[i : i + time_steps])  # داده‌های ۱۰ زمان اخیر\n",
        "    y_sequences.append(y_data[i + time_steps])  # مقدار هدف بعد از ۱۰ مرحله\n",
        "\n",
        "X_sequences = np.array(X_sequences)\n",
        "y_sequences = np.array(y_sequences)\n",
        "\n",
        "# 5️⃣ تقسیم داده‌ها به مجموعه آموزش و تست\n",
        "X_train, X_test, y_train, y_test = train_test_split(X_sequences, y_sequences, test_size=0.2, random_state=42)\n",
        "\n",
        "# 6️⃣ مقیاس‌بندی داده‌ها\n",
        "scaler = MinMaxScaler()\n",
        "X_train = X_train.reshape(-1, num_features)\n",
        "X_test = X_test.reshape(-1, num_features)\n",
        "\n",
        "X_train = scaler.fit_transform(X_train)\n",
        "X_test = scaler.transform(X_test)\n",
        "\n",
        "X_train = X_train.reshape(-1, time_steps, num_features)\n",
        "X_test = X_test.reshape(-1, time_steps, num_features)\n",
        "\n",
        "# 7️⃣ ایجاد مدل LSTM\n",
        "model = Sequential([\n",
        "    LSTM(64, return_sequences=True, input_shape=(time_steps, num_features)),\n",
        "    Dropout(0.2),\n",
        "    LSTM(32, return_sequences=False),\n",
        "    Dropout(0.2),\n",
        "    Dense(16, activation='relu'),\n",
        "    Dense(1, activation='sigmoid')\n",
        "])\n",
        "\n",
        "# 8️⃣ کامپایل مدل\n",
        "model.compile(optimizer='adam', loss=focal_loss(gamma=2., alpha=0.25), metrics=['accuracy'])\n",
        "\n",
        "# 9️⃣ آموزش مدل روی دیتای شخصی\n",
        "history = model.fit(X_train, y_train, epochs=10, batch_size=32, validation_data=(X_test, y_test))\n",
        "\n",
        "# 🔟 ارزیابی مدل\n",
        "loss, accuracy = model.evaluate(X_test, y_test)\n",
        "print(f\"✅ دقت مدل روی داده‌های تست: {accuracy * 100:.2f}%\")\n",
        "\n",
        "# ۱۱️⃣ پیش‌بینی روی یک نمونه جدید\n",
        "test_sample = X_test[0].reshape(1, time_steps, num_features)\n",
        "prediction = model.predict(test_sample)\n",
        "\n",
        "if prediction > 0.5:\n",
        "    print(\"🚨 ورود مشکوک! نیاز به احراز هویت بیشتر.\")\n",
        "else:\n",
        "    print(\"✅ ورود ایمن است.\")"
      ],
      "metadata": {
        "colab": {
          "base_uri": "https://localhost:8080/"
        },
        "id": "Eu46LdFMno5V",
        "outputId": "bcf7080c-c0ac-42ff-bcde-0e8021223178"
      },
      "execution_count": 2,
      "outputs": [
        {
          "output_type": "stream",
          "name": "stdout",
          "text": [
            "🔍 بررسی ۵ سطر اول دیتاست:\n",
            "   A  B  C  D  E  F\n",
            "0  7  6  1  2  1  0\n",
            "1  2  2  0  4  6  0\n",
            "2  7  7  3  7  6  0\n",
            "3  5  0  2  1  2  0\n",
            "4  2  4  0  1  8  0\n"
          ]
        },
        {
          "output_type": "stream",
          "name": "stderr",
          "text": [
            "/usr/local/lib/python3.11/dist-packages/keras/src/layers/rnn/rnn.py:200: UserWarning: Do not pass an `input_shape`/`input_dim` argument to a layer. When using Sequential models, prefer using an `Input(shape)` object as the first layer in the model instead.\n",
            "  super().__init__(**kwargs)\n"
          ]
        },
        {
          "output_type": "stream",
          "name": "stdout",
          "text": [
            "Epoch 1/10\n",
            "\u001b[1m1250/1250\u001b[0m \u001b[32m━━━━━━━━━━━━━━━━━━━━\u001b[0m\u001b[37m\u001b[0m \u001b[1m46s\u001b[0m 32ms/step - accuracy: 0.6020 - loss: 5.1490e-04 - val_accuracy: 0.5904 - val_loss: 6.2763e-09\n",
            "Epoch 2/10\n",
            "\u001b[1m1250/1250\u001b[0m \u001b[32m━━━━━━━━━━━━━━━━━━━━\u001b[0m\u001b[37m\u001b[0m \u001b[1m38s\u001b[0m 31ms/step - accuracy: 0.6024 - loss: 5.4558e-08 - val_accuracy: 0.5904 - val_loss: 1.3334e-09\n",
            "Epoch 3/10\n",
            "\u001b[1m1250/1250\u001b[0m \u001b[32m━━━━━━━━━━━━━━━━━━━━\u001b[0m\u001b[37m\u001b[0m \u001b[1m42s\u001b[0m 32ms/step - accuracy: 0.5991 - loss: 2.2323e-08 - val_accuracy: 0.5904 - val_loss: 4.2681e-10\n",
            "Epoch 4/10\n",
            "\u001b[1m1250/1250\u001b[0m \u001b[32m━━━━━━━━━━━━━━━━━━━━\u001b[0m\u001b[37m\u001b[0m \u001b[1m40s\u001b[0m 32ms/step - accuracy: 0.5991 - loss: 8.3480e-09 - val_accuracy: 0.5904 - val_loss: 1.7883e-10\n",
            "Epoch 5/10\n",
            "\u001b[1m1250/1250\u001b[0m \u001b[32m━━━━━━━━━━━━━━━━━━━━\u001b[0m\u001b[37m\u001b[0m \u001b[1m40s\u001b[0m 32ms/step - accuracy: 0.5993 - loss: 3.6585e-09 - val_accuracy: 0.5904 - val_loss: 7.6238e-11\n",
            "Epoch 6/10\n",
            "\u001b[1m1250/1250\u001b[0m \u001b[32m━━━━━━━━━━━━━━━━━━━━\u001b[0m\u001b[37m\u001b[0m \u001b[1m43s\u001b[0m 34ms/step - accuracy: 0.6016 - loss: 2.2688e-09 - val_accuracy: 0.5904 - val_loss: 3.1819e-11\n",
            "Epoch 7/10\n",
            "\u001b[1m1250/1250\u001b[0m \u001b[32m━━━━━━━━━━━━━━━━━━━━\u001b[0m\u001b[37m\u001b[0m \u001b[1m81s\u001b[0m 33ms/step - accuracy: 0.6005 - loss: 1.9103e-09 - val_accuracy: 0.5904 - val_loss: 1.5539e-11\n",
            "Epoch 8/10\n",
            "\u001b[1m1250/1250\u001b[0m \u001b[32m━━━━━━━━━━━━━━━━━━━━\u001b[0m\u001b[37m\u001b[0m \u001b[1m41s\u001b[0m 33ms/step - accuracy: 0.5971 - loss: 4.7275e-10 - val_accuracy: 0.5904 - val_loss: 9.2997e-12\n",
            "Epoch 9/10\n",
            "\u001b[1m1250/1250\u001b[0m \u001b[32m━━━━━━━━━━━━━━━━━━━━\u001b[0m\u001b[37m\u001b[0m \u001b[1m83s\u001b[0m 34ms/step - accuracy: 0.6010 - loss: 4.6899e-10 - val_accuracy: 0.5904 - val_loss: 5.2245e-12\n",
            "Epoch 10/10\n",
            "\u001b[1m1250/1250\u001b[0m \u001b[32m━━━━━━━━━━━━━━━━━━━━\u001b[0m\u001b[37m\u001b[0m \u001b[1m79s\u001b[0m 32ms/step - accuracy: 0.5959 - loss: 2.4342e-10 - val_accuracy: 0.5904 - val_loss: 3.2304e-12\n",
            "\u001b[1m313/313\u001b[0m \u001b[32m━━━━━━━━━━━━━━━━━━━━\u001b[0m\u001b[37m\u001b[0m \u001b[1m3s\u001b[0m 9ms/step - accuracy: 0.5906 - loss: 3.2322e-12\n",
            "✅ دقت مدل روی داده‌های تست: 59.04%\n",
            "\u001b[1m1/1\u001b[0m \u001b[32m━━━━━━━━━━━━━━━━━━━━\u001b[0m\u001b[37m\u001b[0m \u001b[1m0s\u001b[0m 360ms/step\n",
            "🚨 ورود مشکوک! نیاز به احراز هویت بیشتر.\n"
          ]
        }
      ]
    }
  ]
}