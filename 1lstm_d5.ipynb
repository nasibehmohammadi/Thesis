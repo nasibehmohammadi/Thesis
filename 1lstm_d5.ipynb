{
  "cells": [
    {
      "cell_type": "markdown",
      "metadata": {
        "id": "view-in-github",
        "colab_type": "text"
      },
      "source": [
        "<a href=\"https://colab.research.google.com/github/nasibehmohammadi/Thesis/blob/main/1lstm_d5.ipynb\" target=\"_parent\"><img src=\"https://colab.research.google.com/assets/colab-badge.svg\" alt=\"Open In Colab\"/></a>"
      ]
    },
    {
      "cell_type": "code",
      "execution_count": null,
      "metadata": {
        "id": "_bkkHmb0JY4D"
      },
      "outputs": [],
      "source": [
        "import tensorflow as tf\n",
        "from tensorflow.keras import backend as K\n",
        "\n",
        "def focal_loss(gamma=2., alpha=0.25):\n",
        "    def focal_loss_fixed(y_true, y_pred):\n",
        "        # تبدیل y_true به float32\n",
        "        y_true = K.cast(y_true, dtype=tf.float32)\n",
        "\n",
        "        # Clip predictions to prevent log(0) errors\n",
        "        y_pred = K.clip(y_pred, K.epsilon(), 1. - K.epsilon())\n",
        "\n",
        "        # Compute cross-entropy loss\n",
        "        cross_entropy = -y_true * K.log(y_pred)\n",
        "\n",
        "        # Apply focal loss formula\n",
        "        loss = alpha * K.pow(1 - y_pred, gamma) * cross_entropy\n",
        "\n",
        "        return K.sum(loss, axis=-1)\n",
        "\n",
        "    return focal_loss_fixed\n",
        "\n"
      ]
    },
    {
      "cell_type": "code",
      "execution_count": null,
      "metadata": {
        "colab": {
          "base_uri": "https://localhost:8080/"
        },
        "id": "8WveTkJx6Bj8",
        "outputId": "e864e743-0e9c-474f-dfc5-5b77b0d09642"
      },
      "outputs": [
        {
          "output_type": "stream",
          "name": "stdout",
          "text": [
            "🔍 بررسی ۵ سطر اول دیتاست:\n",
            "   A  B  C  D  E  F\n",
            "0  9  4  7  4  4  0\n",
            "1  2  6  4  6  4  0\n",
            "2  3  0  7  2  4  0\n",
            "3  0  2  0  2  1  0\n",
            "4  9  2  8  1  7  0\n",
            "Epoch 1/10\n"
          ]
        },
        {
          "output_type": "stream",
          "name": "stderr",
          "text": [
            "/usr/local/lib/python3.11/dist-packages/keras/src/layers/rnn/rnn.py:200: UserWarning: Do not pass an `input_shape`/`input_dim` argument to a layer. When using Sequential models, prefer using an `Input(shape)` object as the first layer in the model instead.\n",
            "  super().__init__(**kwargs)\n"
          ]
        },
        {
          "output_type": "stream",
          "name": "stdout",
          "text": [
            "\u001b[1m250/250\u001b[0m \u001b[32m━━━━━━━━━━━━━━━━━━━━\u001b[0m\u001b[37m\u001b[0m \u001b[1m14s\u001b[0m 34ms/step - accuracy: 0.9084 - loss: 0.0019 - val_accuracy: 0.9157 - val_loss: 7.4440e-08\n",
            "Epoch 2/10\n",
            "\u001b[1m250/250\u001b[0m \u001b[32m━━━━━━━━━━━━━━━━━━━━\u001b[0m\u001b[37m\u001b[0m \u001b[1m10s\u001b[0m 39ms/step - accuracy: 0.9092 - loss: 3.6802e-07 - val_accuracy: 0.9157 - val_loss: 2.8536e-08\n",
            "Epoch 3/10\n",
            "\u001b[1m250/250\u001b[0m \u001b[32m━━━━━━━━━━━━━━━━━━━━\u001b[0m\u001b[37m\u001b[0m \u001b[1m10s\u001b[0m 39ms/step - accuracy: 0.9154 - loss: 1.9244e-07 - val_accuracy: 0.9157 - val_loss: 1.4791e-08\n",
            "Epoch 4/10\n",
            "\u001b[1m250/250\u001b[0m \u001b[32m━━━━━━━━━━━━━━━━━━━━\u001b[0m\u001b[37m\u001b[0m \u001b[1m8s\u001b[0m 32ms/step - accuracy: 0.9137 - loss: 1.1903e-07 - val_accuracy: 0.9157 - val_loss: 9.0794e-09\n",
            "Epoch 5/10\n",
            "\u001b[1m250/250\u001b[0m \u001b[32m━━━━━━━━━━━━━━━━━━━━\u001b[0m\u001b[37m\u001b[0m \u001b[1m9s\u001b[0m 37ms/step - accuracy: 0.9136 - loss: 8.0047e-08 - val_accuracy: 0.9157 - val_loss: 6.0534e-09\n",
            "Epoch 6/10\n",
            "\u001b[1m250/250\u001b[0m \u001b[32m━━━━━━━━━━━━━━━━━━━━\u001b[0m\u001b[37m\u001b[0m \u001b[1m10s\u001b[0m 38ms/step - accuracy: 0.9077 - loss: 6.6059e-08 - val_accuracy: 0.9157 - val_loss: 4.3347e-09\n",
            "Epoch 7/10\n",
            "\u001b[1m250/250\u001b[0m \u001b[32m━━━━━━━━━━━━━━━━━━━━\u001b[0m\u001b[37m\u001b[0m \u001b[1m8s\u001b[0m 32ms/step - accuracy: 0.9090 - loss: 5.1048e-08 - val_accuracy: 0.9157 - val_loss: 3.2048e-09\n",
            "Epoch 8/10\n",
            "\u001b[1m250/250\u001b[0m \u001b[32m━━━━━━━━━━━━━━━━━━━━\u001b[0m\u001b[37m\u001b[0m \u001b[1m10s\u001b[0m 40ms/step - accuracy: 0.9156 - loss: 3.9912e-08 - val_accuracy: 0.9157 - val_loss: 2.5264e-09\n",
            "Epoch 9/10\n",
            "\u001b[1m250/250\u001b[0m \u001b[32m━━━━━━━━━━━━━━━━━━━━\u001b[0m\u001b[37m\u001b[0m \u001b[1m10s\u001b[0m 39ms/step - accuracy: 0.9099 - loss: 3.4371e-08 - val_accuracy: 0.9157 - val_loss: 1.9800e-09\n",
            "Epoch 10/10\n",
            "\u001b[1m250/250\u001b[0m \u001b[32m━━━━━━━━━━━━━━━━━━━━\u001b[0m\u001b[37m\u001b[0m \u001b[1m8s\u001b[0m 32ms/step - accuracy: 0.9080 - loss: 2.7217e-08 - val_accuracy: 0.9157 - val_loss: 1.6313e-09\n",
            "\u001b[1m63/63\u001b[0m \u001b[32m━━━━━━━━━━━━━━━━━━━━\u001b[0m\u001b[37m\u001b[0m \u001b[1m1s\u001b[0m 14ms/step - accuracy: 0.9054 - loss: 1.6120e-09\n",
            "✅ دقت مدل روی داده‌های تست: 91.57%\n",
            "\u001b[1m1/1\u001b[0m \u001b[32m━━━━━━━━━━━━━━━━━━━━\u001b[0m\u001b[37m\u001b[0m \u001b[1m0s\u001b[0m 374ms/step\n",
            "🚨 ورود مشکوک! نیاز به احراز هویت بیشتر.\n"
          ]
        }
      ],
      "source": [
        "import numpy as np\n",
        "import pandas as pd\n",
        "import tensorflow as tf\n",
        "from tensorflow.keras.models import Sequential\n",
        "from tensorflow.keras.layers import LSTM, Dense, Dropout\n",
        "from sklearn.model_selection import train_test_split\n",
        "from sklearn.preprocessing import MinMaxScaler\n",
        "\n",
        "# 1️⃣ بارگذاری دیتاست شخصی (لطفاً نام فایل را تغییر بده!)\n",
        "file_path = \"/content/d5.csv\"  # نام فایل خود را اینجا بگذار\n",
        "df = pd.read_csv(file_path)\n",
        "\n",
        "# 2️⃣ بررسی ساختار داده‌ها\n",
        "print(\"🔍 بررسی ۵ سطر اول دیتاست:\")\n",
        "print(df.head())\n",
        "\n",
        "# 3️⃣ مشخص کردن ویژگی‌های ورودی و خروجی\n",
        "# نام ستون‌ها را بر اساس دیتاست خود تغییر بده!\n",
        "feature_columns = [\"A\",\"B\",\"C\",\"D\",\"E\"]  # نام ویژگی‌ها\n",
        "target_column = \"F\"  # نام ستون هدف (برچسب‌ها)\n",
        "\n",
        "# تبدیل دیتافریم به آرایه NumPy\n",
        "X_data = df[feature_columns].values\n",
        "y_data = df[target_column].values\n",
        "\n",
        "# مشخص کردن تعداد ویژگی‌ها\n",
        "num_features = X_data.shape[1]\n",
        "\n",
        "# 4️⃣ تنظیم داده‌ها برای مدل LSTM\n",
        "time_steps = 30  # تعداد مراحل زمانی (مثلاً ۱۰ ورود اخیر هر کاربر)\n",
        "\n",
        "# ایجاد دنباله‌های زمانی برای LSTM\n",
        "X_sequences = []\n",
        "y_sequences = []\n",
        "\n",
        "for i in range(len(X_data) - time_steps):\n",
        "    X_sequences.append(X_data[i : i + time_steps])  # داده‌های ۱۰ زمان اخیر\n",
        "    y_sequences.append(y_data[i + time_steps])  # مقدار هدف بعد از ۱۰ مرحله\n",
        "\n",
        "X_sequences = np.array(X_sequences)\n",
        "y_sequences = np.array(y_sequences)\n",
        "\n",
        "# 5️⃣ تقسیم داده‌ها به مجموعه آموزش و تست\n",
        "X_train, X_test, y_train, y_test = train_test_split(X_sequences, y_sequences, test_size=0.2, random_state=42)\n",
        "\n",
        "# 6️⃣ مقیاس‌بندی داده‌ها\n",
        "scaler = MinMaxScaler()\n",
        "X_train = X_train.reshape(-1, num_features)\n",
        "X_test = X_test.reshape(-1, num_features)\n",
        "\n",
        "X_train = scaler.fit_transform(X_train)\n",
        "X_test = scaler.transform(X_test)\n",
        "\n",
        "X_train = X_train.reshape(-1, time_steps, num_features)\n",
        "X_test = X_test.reshape(-1, time_steps, num_features)\n",
        "\n",
        "# 7️⃣ ایجاد مدل LSTM\n",
        "model = Sequential([\n",
        "    LSTM(64, return_sequences=True, input_shape=(time_steps, num_features)),\n",
        "    Dropout(0.2),\n",
        "    LSTM(32, return_sequences=False),\n",
        "    Dropout(0.2),\n",
        "    Dense(16, activation='relu'),\n",
        "    Dense(1, activation='sigmoid')\n",
        "])\n",
        "\n",
        "# 8️⃣ کامپایل مدل\n",
        "model.compile(optimizer='adam', loss=focal_loss(gamma=2., alpha=0.25), metrics=['accuracy'])\n",
        "\n",
        "# 9️⃣ آموزش مدل روی دیتای شخصی\n",
        "history = model.fit(X_train, y_train, epochs=10, batch_size=32, validation_data=(X_test, y_test))\n",
        "\n",
        "# 🔟 ارزیابی مدل\n",
        "loss, accuracy = model.evaluate(X_test, y_test)\n",
        "print(f\"✅ دقت مدل روی داده‌های تست: {accuracy * 100:.2f}%\")\n",
        "\n",
        "# ۱۱️⃣ پیش‌بینی روی یک نمونه جدید\n",
        "test_sample = X_test[0].reshape(1, time_steps, num_features)\n",
        "prediction = model.predict(test_sample)\n",
        "\n",
        "if prediction > 0.5:\n",
        "    print(\"🚨 ورود مشکوک! نیاز به احراز هویت بیشتر.\")\n",
        "else:\n",
        "    print(\"✅ ورود ایمن است.\")\n"
      ]
    },
    {
      "cell_type": "code",
      "source": [
        "from sklearn.metrics import f1_score\n"
      ],
      "metadata": {
        "id": "XqqIMPlL3pUK"
      },
      "execution_count": null,
      "outputs": []
    },
    {
      "cell_type": "code",
      "source": [
        "from sklearn.metrics import f1_score\n",
        "\n",
        "# 1️⃣ پیش‌بینی بر روی مجموعه تست\n",
        "y_pred = model.predict(X_test)\n",
        "\n",
        "# 2️⃣ تبدیل احتمالات به برچسب‌های 0 و 1 (اگر مقدار احتمال > 0.5 باشد، کلاس 1 است، در غیر این صورت 0)\n",
        "y_pred_classes = (y_pred > 0.5).astype(int)\n",
        "\n",
        "# 3️⃣ محاسبه F1-Score\n",
        "f1 = f1_score(y_test, y_pred_classes)\n",
        "\n",
        "print(f\"🎯 F1-Score مدل: {f1:.4f}\")"
      ],
      "metadata": {
        "colab": {
          "base_uri": "https://localhost:8080/"
        },
        "id": "NjDuCXyZ3-eR",
        "outputId": "ce4d639b-dfb1-4b57-9de4-3ee719bf7b05"
      },
      "execution_count": null,
      "outputs": [
        {
          "output_type": "stream",
          "name": "stdout",
          "text": [
            "\u001b[1m63/63\u001b[0m \u001b[32m━━━━━━━━━━━━━━━━━━━━\u001b[0m\u001b[37m\u001b[0m \u001b[1m1s\u001b[0m 13ms/step\n",
            "🎯 F1-Score مدل: 0.9560\n"
          ]
        }
      ]
    }
  ],
  "metadata": {
    "kernelspec": {
      "display_name": "Python 3",
      "language": "python",
      "name": "python3"
    },
    "language_info": {
      "codemirror_mode": {
        "name": "ipython",
        "version": 3
      },
      "file_extension": ".py",
      "mimetype": "text/x-python",
      "name": "python",
      "nbconvert_exporter": "python",
      "pygments_lexer": "ipython3",
      "version": "3.7.5"
    },
    "colab": {
      "provenance": [],
      "include_colab_link": true
    }
  },
  "nbformat": 4,
  "nbformat_minor": 0
}