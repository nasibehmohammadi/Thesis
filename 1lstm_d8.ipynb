{
  "cells": [
    {
      "cell_type": "markdown",
      "metadata": {
        "id": "view-in-github",
        "colab_type": "text"
      },
      "source": [
        "<a href=\"https://colab.research.google.com/github/nasibehmohammadi/Thesis/blob/main/1lstm_d8.ipynb\" target=\"_parent\"><img src=\"https://colab.research.google.com/assets/colab-badge.svg\" alt=\"Open In Colab\"/></a>"
      ]
    },
    {
      "cell_type": "code",
      "source": [
        "import tensorflow as tf\n",
        "from tensorflow.keras import backend as K\n",
        "\n",
        "def focal_loss(gamma=2., alpha=0.25):\n",
        "    def focal_loss_fixed(y_true, y_pred):\n",
        "        y_true = K.cast(y_true, dtype=tf.float32)\n",
        "\n",
        "        y_pred = K.clip(y_pred, K.epsilon(), 1. - K.epsilon())\n",
        "\n",
        "        cross_entropy = -y_true * K.log(y_pred)\n",
        "\n",
        "        loss = alpha * K.pow(1 - y_pred, gamma) * cross_entropy\n",
        "\n",
        "        return K.sum(loss, axis=-1)\n",
        "\n",
        "    return focal_loss_fixed"
      ],
      "metadata": {
        "id": "dkpXqM1GlTYM"
      },
      "execution_count": null,
      "outputs": []
    },
    {
      "cell_type": "code",
      "source": [
        "import numpy as np\n",
        "import pandas as pd\n",
        "import tensorflow as tf\n",
        "from tensorflow.keras.models import Sequential\n",
        "from tensorflow.keras.layers import LSTM, Dense, Dropout\n",
        "from sklearn.model_selection import train_test_split\n",
        "from sklearn.preprocessing import MinMaxScaler\n",
        "\n",
        "file_path = \"/content/d8.csv\"\n",
        "df = pd.read_csv(file_path)\n",
        "\n",
        "print(\"🔍 بررسی ۵ سطر اول دیتاست:\")\n",
        "print(df.head())\n",
        "\n",
        "feature_columns = [\"A\",\"B\",\"C\",\"D\",\"E\"]\n",
        "target_column = \"F\"\n",
        "\n",
        "X_data = df[feature_columns].values\n",
        "y_data = df[target_column].values\n",
        "\n",
        "num_features = X_data.shape[1]\n",
        "\n",
        "time_steps = 30\n",
        "\n",
        "X_sequences = []\n",
        "y_sequences = []\n",
        "\n",
        "for i in range(len(X_data) - time_steps):\n",
        "    X_sequences.append(X_data[i : i + time_steps])\n",
        "    y_sequences.append(y_data[i + time_steps])\n",
        "\n",
        "X_sequences = np.array(X_sequences)\n",
        "y_sequences = np.array(y_sequences)\n",
        "\n",
        "X_train, X_test, y_train, y_test = train_test_split(X_sequences, y_sequences, test_size=0.2, random_state=42)\n",
        "\n",
        "scaler = MinMaxScaler()\n",
        "X_train = X_train.reshape(-1, num_features)\n",
        "X_test = X_test.reshape(-1, num_features)\n",
        "\n",
        "X_train = scaler.fit_transform(X_train)\n",
        "X_test = scaler.transform(X_test)\n",
        "\n",
        "X_train = X_train.reshape(-1, time_steps, num_features)\n",
        "X_test = X_test.reshape(-1, time_steps, num_features)\n",
        "\n",
        "model = Sequential([\n",
        "    LSTM(64, return_sequences=True, input_shape=(time_steps, num_features)),\n",
        "    Dropout(0.2),\n",
        "    LSTM(32, return_sequences=False),\n",
        "    Dropout(0.2),\n",
        "    Dense(16, activation='relu'),\n",
        "    Dense(1, activation='sigmoid')\n",
        "])\n",
        "\n",
        "model.compile(optimizer='adam', loss=focal_loss(gamma=2., alpha=0.25), metrics=['accuracy'])\n",
        "\n",
        "history = model.fit(X_train, y_train, epochs=10, batch_size=32, validation_data=(X_test, y_test))\n",
        "\n",
        "loss, accuracy = model.evaluate(X_test, y_test)\n",
        "print(f\"✅ دقت مدل روی داده‌های تست: {accuracy * 100:.2f}%\")\n",
        "\n",
        "test_sample = X_test[0].reshape(1, time_steps, num_features)\n",
        "prediction = model.predict(test_sample)\n",
        "\n",
        "if prediction > 0.5:\n",
        "    print(\"🚨 ورود مشکوک! نیاز به احراز هویت بیشتر.\")\n",
        "else:\n",
        "    print(\"✅ ورود ایمن است.\")"
      ],
      "metadata": {
        "colab": {
          "base_uri": "https://localhost:8080/"
        },
        "id": "ZZMTNRqEj7Tt",
        "outputId": "294270f6-db0d-4109-99cf-ea90b668ce71"
      },
      "execution_count": null,
      "outputs": [
        {
          "output_type": "stream",
          "name": "stdout",
          "text": [
            "🔍 بررسی ۵ سطر اول دیتاست:\n",
            "   A  B  C  D  E  F\n",
            "0  4  3  8  8  9  1\n",
            "1  0  3  3  0  1  0\n",
            "2  5  0  4  3  0  0\n",
            "3  0  7  4  3  4  0\n",
            "4  6  9  5  4  8  0\n"
          ]
        },
        {
          "output_type": "stream",
          "name": "stderr",
          "text": [
            "/usr/local/lib/python3.11/dist-packages/keras/src/layers/rnn/rnn.py:200: UserWarning: Do not pass an `input_shape`/`input_dim` argument to a layer. When using Sequential models, prefer using an `Input(shape)` object as the first layer in the model instead.\n",
            "  super().__init__(**kwargs)\n"
          ]
        },
        {
          "output_type": "stream",
          "name": "stdout",
          "text": [
            "Epoch 1/10\n",
            "\u001b[1m250/250\u001b[0m \u001b[32m━━━━━━━━━━━━━━━━━━━━\u001b[0m\u001b[37m\u001b[0m \u001b[1m16s\u001b[0m 41ms/step - accuracy: 0.6879 - loss: 0.0039 - val_accuracy: 0.6996 - val_loss: 2.1629e-07\n",
            "Epoch 2/10\n",
            "\u001b[1m250/250\u001b[0m \u001b[32m━━━━━━━━━━━━━━━━━━━━\u001b[0m\u001b[37m\u001b[0m \u001b[1m20s\u001b[0m 38ms/step - accuracy: 0.7055 - loss: 2.1823e-06 - val_accuracy: 0.6996 - val_loss: 5.7854e-08\n",
            "Epoch 3/10\n",
            "\u001b[1m250/250\u001b[0m \u001b[32m━━━━━━━━━━━━━━━━━━━━\u001b[0m\u001b[37m\u001b[0m \u001b[1m10s\u001b[0m 41ms/step - accuracy: 0.6942 - loss: 9.2248e-07 - val_accuracy: 0.6996 - val_loss: 2.7910e-08\n",
            "Epoch 4/10\n",
            "\u001b[1m250/250\u001b[0m \u001b[32m━━━━━━━━━━━━━━━━━━━━\u001b[0m\u001b[37m\u001b[0m \u001b[1m18s\u001b[0m 33ms/step - accuracy: 0.7120 - loss: 6.2541e-07 - val_accuracy: 0.6996 - val_loss: 1.6304e-08\n",
            "Epoch 5/10\n",
            "\u001b[1m250/250\u001b[0m \u001b[32m━━━━━━━━━━━━━━━━━━━━\u001b[0m\u001b[37m\u001b[0m \u001b[1m10s\u001b[0m 41ms/step - accuracy: 0.7042 - loss: 4.6857e-07 - val_accuracy: 0.6996 - val_loss: 9.6024e-09\n",
            "Epoch 6/10\n",
            "\u001b[1m250/250\u001b[0m \u001b[32m━━━━━━━━━━━━━━━━━━━━\u001b[0m\u001b[37m\u001b[0m \u001b[1m19s\u001b[0m 37ms/step - accuracy: 0.7090 - loss: 2.8582e-07 - val_accuracy: 0.6996 - val_loss: 6.7636e-09\n",
            "Epoch 7/10\n",
            "\u001b[1m250/250\u001b[0m \u001b[32m━━━━━━━━━━━━━━━━━━━━\u001b[0m\u001b[37m\u001b[0m \u001b[1m9s\u001b[0m 34ms/step - accuracy: 0.7063 - loss: 2.3750e-07 - val_accuracy: 0.6996 - val_loss: 4.7442e-09\n",
            "Epoch 8/10\n",
            "\u001b[1m250/250\u001b[0m \u001b[32m━━━━━━━━━━━━━━━━━━━━\u001b[0m\u001b[37m\u001b[0m \u001b[1m10s\u001b[0m 40ms/step - accuracy: 0.7068 - loss: 1.8501e-07 - val_accuracy: 0.6996 - val_loss: 3.6324e-09\n",
            "Epoch 9/10\n",
            "\u001b[1m250/250\u001b[0m \u001b[32m━━━━━━━━━━━━━━━━━━━━\u001b[0m\u001b[37m\u001b[0m \u001b[1m10s\u001b[0m 38ms/step - accuracy: 0.7042 - loss: 1.3790e-07 - val_accuracy: 0.6996 - val_loss: 2.9235e-09\n",
            "Epoch 10/10\n",
            "\u001b[1m250/250\u001b[0m \u001b[32m━━━━━━━━━━━━━━━━━━━━\u001b[0m\u001b[37m\u001b[0m \u001b[1m8s\u001b[0m 32ms/step - accuracy: 0.7056 - loss: 9.7684e-08 - val_accuracy: 0.6996 - val_loss: 2.2623e-09\n",
            "\u001b[1m63/63\u001b[0m \u001b[32m━━━━━━━━━━━━━━━━━━━━\u001b[0m\u001b[37m\u001b[0m \u001b[1m1s\u001b[0m 11ms/step - accuracy: 0.6968 - loss: 2.2534e-09\n",
            "✅ دقت مدل روی داده‌های تست: 69.96%\n",
            "\u001b[1m1/1\u001b[0m \u001b[32m━━━━━━━━━━━━━━━━━━━━\u001b[0m\u001b[37m\u001b[0m \u001b[1m0s\u001b[0m 365ms/step\n",
            "🚨 ورود مشکوک! نیاز به احراز هویت بیشتر.\n"
          ]
        }
      ]
    },
    {
      "cell_type": "code",
      "source": [
        "from sklearn.metrics import f1_score"
      ],
      "metadata": {
        "id": "PeJz1sDwjHfE"
      },
      "execution_count": null,
      "outputs": []
    },
    {
      "cell_type": "code",
      "source": [
        "from sklearn.metrics import f1_score\n",
        "\n",
        "# 1️⃣ پیش‌بینی بر روی مجموعه تست\n",
        "y_pred = model.predict(X_test)\n",
        "\n",
        "# 2️⃣ تبدیل احتمالات به برچسب‌های 0 و 1 (اگر مقدار احتمال > 0.5 باشد، کلاس 1 است، در غیر این صورت 0)\n",
        "y_pred_classes = (y_pred > 0.5).astype(int)\n",
        "\n",
        "# 3️⃣ محاسبه F1-Score\n",
        "f1 = f1_score(y_test, y_pred_classes)\n",
        "\n",
        "print(f\"🎯 F1-Score مدل: {f1:.4f}\")\n"
      ],
      "metadata": {
        "colab": {
          "base_uri": "https://localhost:8080/"
        },
        "id": "iFMPkiw9k0vQ",
        "outputId": "0b31312c-8cf3-4ef5-b511-a1322486fb93"
      },
      "execution_count": null,
      "outputs": [
        {
          "output_type": "stream",
          "name": "stdout",
          "text": [
            "\u001b[1m63/63\u001b[0m \u001b[32m━━━━━━━━━━━━━━━━━━━━\u001b[0m\u001b[37m\u001b[0m \u001b[1m1s\u001b[0m 10ms/step\n",
            "🎯 F1-Score مدل: 0.8233\n"
          ]
        }
      ]
    }
  ],
  "metadata": {
    "kernelspec": {
      "display_name": "Python 3",
      "language": "python",
      "name": "python3"
    },
    "language_info": {
      "codemirror_mode": {
        "name": "ipython",
        "version": 3
      },
      "file_extension": ".py",
      "mimetype": "text/x-python",
      "name": "python",
      "nbconvert_exporter": "python",
      "pygments_lexer": "ipython3",
      "version": "3.7.5"
    },
    "colab": {
      "provenance": [],
      "include_colab_link": true
    }
  },
  "nbformat": 4,
  "nbformat_minor": 0
}