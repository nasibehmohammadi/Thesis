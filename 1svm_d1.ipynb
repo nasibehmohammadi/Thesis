{
  "nbformat": 4,
  "nbformat_minor": 0,
  "metadata": {
    "colab": {
      "provenance": [],
      "authorship_tag": "ABX9TyPwSnS++g898B6RC1ua85v1",
      "include_colab_link": true
    },
    "kernelspec": {
      "name": "python3",
      "display_name": "Python 3"
    },
    "language_info": {
      "name": "python"
    }
  },
  "cells": [
    {
      "cell_type": "markdown",
      "metadata": {
        "id": "view-in-github",
        "colab_type": "text"
      },
      "source": [
        "<a href=\"https://colab.research.google.com/github/nasibehmohammadi/Thesis/blob/main/1svm_d1.ipynb\" target=\"_parent\"><img src=\"https://colab.research.google.com/assets/colab-badge.svg\" alt=\"Open In Colab\"/></a>"
      ]
    },
    {
      "cell_type": "code",
      "execution_count": 1,
      "metadata": {
        "colab": {
          "base_uri": "https://localhost:8080/"
        },
        "id": "BDG4PGnAz_d2",
        "outputId": "a1673164-2cf2-4731-8590-33232fbeb498"
      },
      "outputs": [
        {
          "output_type": "stream",
          "name": "stdout",
          "text": [
            "✅ دقت مدل روی داده‌های آموزش: 0.94\n",
            "✅ دقت مدل روی داده‌های تست: 0.94\n",
            "✅ مدل احتمالاً بیش‌برازش ندارد.\n"
          ]
        }
      ],
      "source": [
        "import numpy as np\n",
        "import pandas as pd\n",
        "from sklearn.model_selection import train_test_split\n",
        "from sklearn.preprocessing import MinMaxScaler\n",
        "from sklearn.svm import SVC\n",
        "from sklearn.metrics import accuracy_score\n",
        "\n",
        "# 1️⃣ بارگذاری دیتاست\n",
        "file_path = \"/content/d1.csv\"  # نام فایل خود را مشخص کنید\n",
        "\n",
        "df = pd.read_csv(file_path)\n",
        "\n",
        "# 2️⃣ مشخص کردن ویژگی‌ها و برچسب‌ها\n",
        "feature_columns = [\"B\", \"C\", \"D\", \"E\", \"F\", \"G\", \"H\", \"I\", \"J\"]  # نام ویژگی‌ها\n",
        "target_column = \"A\"  # نام ستون هدف\n",
        "\n",
        "X_data = df[feature_columns].values\n",
        "y_data = df[target_column].values\n",
        "\n",
        "# 3️⃣ تقسیم داده‌ها به آموزش و تست\n",
        "X_train, X_test, y_train, y_test = train_test_split(X_data, y_data, test_size=0.2, random_state=42)\n",
        "\n",
        "# 4️⃣ مقیاس‌بندی داده‌ها\n",
        "scaler = MinMaxScaler()\n",
        "X_train = scaler.fit_transform(X_train)\n",
        "X_test = scaler.transform(X_test)\n",
        "\n",
        "# 5️⃣ ایجاد مدل SVM\n",
        "model = SVC(kernel='rbf', C=1.0, gamma='scale')\n",
        "\n",
        "# 6️⃣ آموزش مدل\n",
        "model.fit(X_train, y_train)\n",
        "\n",
        "# 7️⃣ ارزیابی مدل\n",
        "train_acc = model.score(X_train, y_train)\n",
        "test_acc = model.score(X_test, y_test)\n",
        "\n",
        "y_pred = model.predict(X_test)\n",
        "accuracy = accuracy_score(y_test, y_pred)\n",
        "\n",
        "print(f\"✅ دقت مدل روی داده‌های آموزش: {train_acc:.2f}\")\n",
        "print(f\"✅ دقت مدل روی داده‌های تست: {test_acc:.2f}\")\n",
        "\n",
        "# بررسی بیش‌برازش\n",
        "if train_acc - test_acc > 0.1:\n",
        "    print(\"⚠️ احتمال بیش‌برازش وجود دارد!\")\n",
        "else:\n",
        "    print(\"✅ مدل احتمالاً بیش‌برازش ندارد.\")\n"
      ]
    },
    {
      "cell_type": "code",
      "source": [
        "from sklearn.svm import SVC\n",
        "from sklearn.metrics import accuracy_score\n",
        "\n",
        "kernels = ['rbf', 'sigmoid']\n",
        "for kernel in kernels:\n",
        "    model = SVC(kernel=kernel, C=1.0, gamma='scale')\n",
        "    model.fit(X_train, y_train)\n",
        "    y_pred = model.predict(X_test)\n",
        "\n",
        "    train_acc = model.score(X_train, y_train)\n",
        "    test_acc = accuracy_score(y_test, y_pred)\n",
        "\n",
        "    print(f\"📌 کرنل: {kernel}\")\n",
        "    print(f\"✅ دقت روی داده‌های آموزش: {train_acc:.2f}\")\n",
        "    print(f\"✅ دقت روی داده‌های تست: {test_acc:.2f}\\n\")\n"
      ],
      "metadata": {
        "colab": {
          "base_uri": "https://localhost:8080/"
        },
        "id": "fr0u147t3wPe",
        "outputId": "c1313f04-1b30-4f55-c748-f00a22073da2"
      },
      "execution_count": 2,
      "outputs": [
        {
          "output_type": "stream",
          "name": "stdout",
          "text": [
            "📌 کرنل: rbf\n",
            "✅ دقت روی داده‌های آموزش: 0.94\n",
            "✅ دقت روی داده‌های تست: 0.94\n",
            "\n",
            "📌 کرنل: sigmoid\n",
            "✅ دقت روی داده‌های آموزش: 0.90\n",
            "✅ دقت روی داده‌های تست: 0.90\n",
            "\n"
          ]
        }
      ]
    },
    {
      "cell_type": "code",
      "source": [
        "from sklearn.metrics import classification_report, f1_score\n",
        "\n",
        "# پیش‌بینی داده‌های تست\n",
        "y_pred = model.predict(X_test)\n",
        "\n",
        "# محاسبه و نمایش F1-score\n",
        "f1 = f1_score(y_test, y_pred, average='weighted')  # یا 'macro' یا 'micro' بر اساس نیاز\n",
        "print(f\"🎯 F1-Score: {f1:.4f}\")\n",
        "\n",
        "# نمایش گزارش کامل شامل precision, recall, f1-score\n",
        "print(\"\\n📊 Classification Report:\")\n",
        "print(classification_report(y_test, y_pred))\n"
      ],
      "metadata": {
        "colab": {
          "base_uri": "https://localhost:8080/"
        },
        "id": "qCNsaUDa0sO2",
        "outputId": "539a4200-0240-4f33-fe80-75889f1e5387"
      },
      "execution_count": 3,
      "outputs": [
        {
          "output_type": "stream",
          "name": "stdout",
          "text": [
            "🎯 F1-Score: 0.8978\n",
            "\n",
            "📊 Classification Report:\n",
            "              precision    recall  f1-score   support\n",
            "\n",
            "           0       0.10      0.11      0.11       369\n",
            "           1       0.95      0.94      0.95      6185\n",
            "\n",
            "    accuracy                           0.90      6554\n",
            "   macro avg       0.52      0.53      0.53      6554\n",
            "weighted avg       0.90      0.90      0.90      6554\n",
            "\n"
          ]
        }
      ]
    },
    {
      "cell_type": "code",
      "source": [
        "from sklearn.svm import SVC\n",
        "from sklearn.metrics import accuracy_score\n",
        "\n",
        "kernels = ['rbf', 'sigmoid']\n",
        "for kernel in kernels:\n",
        "    model = SVC(kernel=kernel, C=1.0, gamma='scale')\n",
        "    model.fit(X_train, y_train)\n",
        "    y_pred = model.predict(X_test)\n",
        "\n",
        "    train_acc = model.score(X_train, y_train)\n",
        "    test_acc = accuracy_score(y_test, y_pred)\n",
        "\n",
        "    print(f\"📌 کرنل: {kernel}\")\n",
        "    print(f\"✅ دقت روی داده‌های آموزش: {train_acc:.2f}\")\n",
        "    print(f\"✅ دقت روی داده‌های تست: {test_acc:.2f}\\n\")\n"
      ],
      "metadata": {
        "colab": {
          "base_uri": "https://localhost:8080/"
        },
        "id": "Xwbo8kMC4NZ2",
        "outputId": "b710a5ef-eafc-4a26-82a6-99569af8728c"
      },
      "execution_count": 4,
      "outputs": [
        {
          "output_type": "stream",
          "name": "stdout",
          "text": [
            "📌 کرنل: rbf\n",
            "✅ دقت روی داده‌های آموزش: 0.94\n",
            "✅ دقت روی داده‌های تست: 0.94\n",
            "\n",
            "📌 کرنل: sigmoid\n",
            "✅ دقت روی داده‌های آموزش: 0.90\n",
            "✅ دقت روی داده‌های تست: 0.90\n",
            "\n"
          ]
        }
      ]
    }
  ]
}