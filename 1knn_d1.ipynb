{
  "nbformat": 4,
  "nbformat_minor": 0,
  "metadata": {
    "colab": {
      "provenance": [],
      "include_colab_link": true
    },
    "kernelspec": {
      "name": "python3",
      "display_name": "Python 3"
    },
    "language_info": {
      "name": "python"
    }
  },
  "cells": [
    {
      "cell_type": "markdown",
      "metadata": {
        "id": "view-in-github",
        "colab_type": "text"
      },
      "source": [
        "<a href=\"https://colab.research.google.com/github/nasibehmohammadi/Thesis/blob/main/1knn_d1.ipynb\" target=\"_parent\"><img src=\"https://colab.research.google.com/assets/colab-badge.svg\" alt=\"Open In Colab\"/></a>"
      ]
    },
    {
      "cell_type": "code",
      "execution_count": null,
      "metadata": {
        "colab": {
          "base_uri": "https://localhost:8080/"
        },
        "id": "Z_8BaGY3Yvbl",
        "outputId": "f5a0407c-3c66-454a-81e7-58ed382a70ba"
      },
      "outputs": [
        {
          "output_type": "stream",
          "name": "stdout",
          "text": [
            "🔍 بررسی ۵ سطر اول دیتاست:\n",
            "   A      B      C       D       E       F       G       H       I       J\n",
            "0  1  39353  85475  117961  118300  123472  117905  117906  290919  117908\n",
            "1  1  17183   1540  117961  118343  123125  118536  118536  308574  118539\n",
            "2  1  36724  14457  118219  118220  117884  117879  267952   19721  117880\n",
            "3  1  36135   5396  117961  118343  119993  118321  240983  290919  118322\n",
            "4  1  42680   5905  117929  117930  119569  119323  123932   19793  119325\n",
            "✅ دقت مدل روی داده‌های آموزش: 94.84%\n",
            "✅ دقت مدل روی داده‌های تست: 94.05%\n",
            "\n",
            "📊 گزارش طبقه‌بندی:\n",
            "              precision    recall  f1-score   support\n",
            "\n",
            "           0       0.41      0.13      0.20       369\n",
            "           1       0.95      0.99      0.97      6185\n",
            "\n",
            "    accuracy                           0.94      6554\n",
            "   macro avg       0.68      0.56      0.58      6554\n",
            "weighted avg       0.92      0.94      0.93      6554\n",
            "\n",
            "\n",
            "📌 ماتریس درهم‌ریختگی:\n",
            "[[  48  321]\n",
            " [  69 6116]]\n",
            "🚨 ورود مشکوک! نیاز به احراز هویت بیشتر.\n"
          ]
        }
      ],
      "source": [
        "import numpy as np\n",
        "import pandas as pd\n",
        "from sklearn.model_selection import train_test_split\n",
        "from sklearn.preprocessing import MinMaxScaler\n",
        "from sklearn.neighbors import KNeighborsClassifier\n",
        "from sklearn.metrics import accuracy_score, classification_report, confusion_matrix\n",
        "\n",
        "file_path = \"/content/d1.csv\"\n",
        "df = pd.read_csv(file_path)\n",
        "\n",
        "print(\"🔍 بررسی ۵ سطر اول دیتاست:\")\n",
        "print(df.head())\n",
        "\n",
        "feature_columns = [\"B\",\"C\",\"D\",\"E\",\"F\",\"G\",\"H\",\"I\",\"J\"]\n",
        "target_column = \"A\"\n",
        "\n",
        "X_data = df[feature_columns].values\n",
        "y_data = df[target_column].values\n",
        "\n",
        "scaler = MinMaxScaler()\n",
        "X_scaled = scaler.fit_transform(X_data)\n",
        "\n",
        "X_train, X_test, y_train, y_test = train_test_split(X_scaled, y_data, test_size=0.2, random_state=42)\n",
        "\n",
        "k = 5\n",
        "knn_model = KNeighborsClassifier(n_neighbors=k)\n",
        "\n",
        "knn_model.fit(X_train, y_train)\n",
        "train_accuracy = knn_model.score(X_train, y_train)\n",
        "test_accuracy = knn_model.score(X_test, y_test)\n",
        "\n",
        "print(f\"✅ دقت مدل روی داده‌های آموزش: {train_accuracy * 100:.2f}%\")\n",
        "print(f\"✅ دقت مدل روی داده‌های تست: {test_accuracy * 100:.2f}%\")\n",
        "y_pred = knn_model.predict(X_test)\n",
        "\n",
        "\n",
        "print(\"\\n📊 گزارش طبقه‌بندی:\")\n",
        "print(classification_report(y_test, y_pred))\n",
        "\n",
        "print(\"\\n📌 ماتریس درهم‌ریختگی:\")\n",
        "print(confusion_matrix(y_test, y_pred))\n",
        "\n",
        "test_sample = X_test[0].reshape(1, -1)\n",
        "prediction = knn_model.predict(test_sample)\n",
        "\n",
        "if prediction == 1:\n",
        "    print(\"🚨 ورود مشکوک! نیاز به احراز هویت بیشتر.\")\n",
        "else:\n",
        "    print(\"✅ ورود ایمن است.\")\n"
      ]
    },
    {
      "cell_type": "code",
      "source": [
        "from sklearn.metrics import f1_score\n",
        "\n",
        "\n",
        "from sklearn.metrics import f1_score\n",
        "\n",
        "# 1️⃣ پیش‌بینی بر روی مجموعه تست\n",
        "y_pred = knn_model.predict(X_test)\n",
        "\n",
        "# 2️⃣ تبدیل احتمالات به برچسب‌های 0 و 1 (اگر مقدار احتمال > 0.5 باشد، کلاس 1 است، در غیر این صورت 0)\n",
        "y_pred_classes = (y_pred > 0.5).astype(int)\n",
        "\n",
        "# 3️⃣ محاسبه F1-Score\n",
        "f1 = f1_score(y_test, y_pred_classes)\n",
        "\n",
        "print(f\"🎯 F1-Score مدل: {f1:.4f}\")\n",
        "\n"
      ],
      "metadata": {
        "colab": {
          "base_uri": "https://localhost:8080/"
        },
        "id": "f4nAgUUQZMAs",
        "outputId": "9d879137-61b6-4a87-8fb3-823c554a425b"
      },
      "execution_count": null,
      "outputs": [
        {
          "output_type": "stream",
          "name": "stdout",
          "text": [
            "🎯 F1-Score مدل: 0.9691\n"
          ]
        }
      ]
    },
    {
      "cell_type": "code",
      "source": [
        "import matplotlib.pyplot as plt\n",
        "\n",
        "train_acc = knn_model.score(X_train, y_train)\n",
        "test_acc = knn_model.score(X_test, y_test)\n",
        "\n",
        "# 📊 رسم نمودار دقت آموزش و تست\n",
        "plt.bar([\"Train Accuracy\", \"Test Accuracy\"], [train_acc, test_acc], color=[\"blue\", \"green\"])\n",
        "plt.ylim(0, 1)\n",
        "plt.title(\"Overfitting Check (KNN)\")\n",
        "plt.show()\n"
      ],
      "metadata": {
        "colab": {
          "base_uri": "https://localhost:8080/",
          "height": 452
        },
        "id": "6_XQAAAGaJaf",
        "outputId": "b2bcbdf2-dff0-49b7-c67e-f1a37d655c04"
      },
      "execution_count": null,
      "outputs": [
        {
          "output_type": "display_data",
          "data": {
            "text/plain": [
              "<Figure size 640x480 with 1 Axes>"
            ],
            "image/png": "[encoded data removed]"
          },
          "metadata": {}
        }
      ]
    }
  ]
}